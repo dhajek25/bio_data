{
 "cells": [
  {
   "cell_type": "code",
   "execution_count": 49,
   "outputs": [],
   "source": [
    "import pandas as pd\n",
    "import numpy as np\n",
    "import matplotlib.pyplot as plt\n",
    "from collections import Counter\n",
    "import itertools\n",
    "\n",
    "from keras.models import Sequential\n",
    "from keras.layers import Dense, Conv1D, MaxPooling1D,AveragePooling1D, Flatten,Conv2D,SpatialDropout1D, Dropout, GlobalAveragePooling1D,GlobalMaxPooling1D\n",
    "from keras.layers import BatchNormalization\n",
    "\n",
    "from keras.layers import LSTM\n",
    "from keras.layers import Embedding\n",
    "\n",
    "# https://machinelearningmastery.com/how-to-stop-training-deep-neural-networks-at-the-right-time-using-early-stopping/\n",
    "from keras.callbacks import EarlyStopping\n",
    "\n",
    "from keras.preprocessing import text, sequence\n",
    "from keras.preprocessing.text import Tokenizer\n",
    "from sklearn.model_selection import train_test_split\n",
    "from sklearn.preprocessing import LabelBinarizer\n",
    "from sklearn.metrics import confusion_matrix\n",
    "from sklearn.metrics import accuracy_score\n",
    "from sklearn.metrics import classification_report"
   ],
   "metadata": {
    "collapsed": false,
    "ExecuteTime": {
     "end_time": "2023-09-28T18:22:44.852298400Z",
     "start_time": "2023-09-28T18:22:44.842239300Z"
    }
   }
  },
  {
   "cell_type": "code",
   "execution_count": null,
   "outputs": [],
   "source": [
    "# https://www.kaggle.com/code/danofer/deep-protein-sequence-family-classification/notebook"
   ],
   "metadata": {
    "collapsed": false
   }
  },
  {
   "cell_type": "code",
   "execution_count": 14,
   "outputs": [],
   "source": [
    "data = pd.read_csv(\"protein_class_prep/pdb_data_no_dups.csv\")"
   ],
   "metadata": {
    "collapsed": false,
    "ExecuteTime": {
     "end_time": "2023-09-28T16:23:58.163783200Z",
     "start_time": "2023-09-28T16:23:57.743225900Z"
    }
   }
  },
  {
   "cell_type": "code",
   "execution_count": 15,
   "outputs": [],
   "source": [
    "sequnce = pd.read_csv(\"protein_class_prep/pdb_data_seq.csv\")"
   ],
   "metadata": {
    "collapsed": false,
    "ExecuteTime": {
     "end_time": "2023-09-28T16:23:59.462753800Z",
     "start_time": "2023-09-28T16:23:58.167798Z"
    }
   }
  },
  {
   "cell_type": "code",
   "execution_count": 16,
   "outputs": [
    {
     "data": {
      "text/plain": "  structureId         classification experimentalTechnique macromoleculeType  \\\n0        100D         DNA-RNA HYBRID     X-RAY DIFFRACTION    DNA/RNA Hybrid   \n1        101D                    DNA     X-RAY DIFFRACTION               DNA   \n2        101M       OXYGEN TRANSPORT     X-RAY DIFFRACTION           Protein   \n3        102D                    DNA     X-RAY DIFFRACTION               DNA   \n4        102L  HYDROLASE(O-GLYCOSYL)     X-RAY DIFFRACTION           Protein   \n\n   residueCount  resolution  structureMolecularWeight  \\\n0            20        1.90                   6360.30   \n1            24        2.25                   7939.35   \n2           154        2.07                  18112.80   \n3            24        2.20                   7637.17   \n4           165        1.74                  18926.61   \n\n           crystallizationMethod  crystallizationTempK  densityMatthews  \\\n0  VAPOR DIFFUSION, HANGING DROP                   NaN             1.78   \n1                            NaN                   NaN             2.00   \n2                            NaN                   NaN             3.09   \n3  VAPOR DIFFUSION, SITTING DROP                 277.0             2.28   \n4                            NaN                   NaN             2.75   \n\n   densityPercentSol                                        pdbxDetails  \\\n0              30.89             pH 7.00, VAPOR DIFFUSION, HANGING DROP   \n1              38.45                                                NaN   \n2              60.20  3.0 M AMMONIUM SULFATE, 20 MM TRIS, 1MM EDTA, ...   \n3              46.06  pH 7.00, VAPOR DIFFUSION, SITTING DROP, temper...   \n4              55.28                                                NaN   \n\n   phValue  publicationYear  \n0      7.0           1994.0  \n1      NaN           1995.0  \n2      9.0           1999.0  \n3      7.0           1995.0  \n4      NaN           1993.0  ",
      "text/html": "<div>\n<style scoped>\n    .dataframe tbody tr th:only-of-type {\n        vertical-align: middle;\n    }\n\n    .dataframe tbody tr th {\n        vertical-align: top;\n    }\n\n    .dataframe thead th {\n        text-align: right;\n    }\n</style>\n<table border=\"1\" class=\"dataframe\">\n  <thead>\n    <tr style=\"text-align: right;\">\n      <th></th>\n      <th>structureId</th>\n      <th>classification</th>\n      <th>experimentalTechnique</th>\n      <th>macromoleculeType</th>\n      <th>residueCount</th>\n      <th>resolution</th>\n      <th>structureMolecularWeight</th>\n      <th>crystallizationMethod</th>\n      <th>crystallizationTempK</th>\n      <th>densityMatthews</th>\n      <th>densityPercentSol</th>\n      <th>pdbxDetails</th>\n      <th>phValue</th>\n      <th>publicationYear</th>\n    </tr>\n  </thead>\n  <tbody>\n    <tr>\n      <th>0</th>\n      <td>100D</td>\n      <td>DNA-RNA HYBRID</td>\n      <td>X-RAY DIFFRACTION</td>\n      <td>DNA/RNA Hybrid</td>\n      <td>20</td>\n      <td>1.90</td>\n      <td>6360.30</td>\n      <td>VAPOR DIFFUSION, HANGING DROP</td>\n      <td>NaN</td>\n      <td>1.78</td>\n      <td>30.89</td>\n      <td>pH 7.00, VAPOR DIFFUSION, HANGING DROP</td>\n      <td>7.0</td>\n      <td>1994.0</td>\n    </tr>\n    <tr>\n      <th>1</th>\n      <td>101D</td>\n      <td>DNA</td>\n      <td>X-RAY DIFFRACTION</td>\n      <td>DNA</td>\n      <td>24</td>\n      <td>2.25</td>\n      <td>7939.35</td>\n      <td>NaN</td>\n      <td>NaN</td>\n      <td>2.00</td>\n      <td>38.45</td>\n      <td>NaN</td>\n      <td>NaN</td>\n      <td>1995.0</td>\n    </tr>\n    <tr>\n      <th>2</th>\n      <td>101M</td>\n      <td>OXYGEN TRANSPORT</td>\n      <td>X-RAY DIFFRACTION</td>\n      <td>Protein</td>\n      <td>154</td>\n      <td>2.07</td>\n      <td>18112.80</td>\n      <td>NaN</td>\n      <td>NaN</td>\n      <td>3.09</td>\n      <td>60.20</td>\n      <td>3.0 M AMMONIUM SULFATE, 20 MM TRIS, 1MM EDTA, ...</td>\n      <td>9.0</td>\n      <td>1999.0</td>\n    </tr>\n    <tr>\n      <th>3</th>\n      <td>102D</td>\n      <td>DNA</td>\n      <td>X-RAY DIFFRACTION</td>\n      <td>DNA</td>\n      <td>24</td>\n      <td>2.20</td>\n      <td>7637.17</td>\n      <td>VAPOR DIFFUSION, SITTING DROP</td>\n      <td>277.0</td>\n      <td>2.28</td>\n      <td>46.06</td>\n      <td>pH 7.00, VAPOR DIFFUSION, SITTING DROP, temper...</td>\n      <td>7.0</td>\n      <td>1995.0</td>\n    </tr>\n    <tr>\n      <th>4</th>\n      <td>102L</td>\n      <td>HYDROLASE(O-GLYCOSYL)</td>\n      <td>X-RAY DIFFRACTION</td>\n      <td>Protein</td>\n      <td>165</td>\n      <td>1.74</td>\n      <td>18926.61</td>\n      <td>NaN</td>\n      <td>NaN</td>\n      <td>2.75</td>\n      <td>55.28</td>\n      <td>NaN</td>\n      <td>NaN</td>\n      <td>1993.0</td>\n    </tr>\n  </tbody>\n</table>\n</div>"
     },
     "execution_count": 16,
     "metadata": {},
     "output_type": "execute_result"
    }
   ],
   "source": [
    "data.head()"
   ],
   "metadata": {
    "collapsed": false,
    "ExecuteTime": {
     "end_time": "2023-09-28T16:23:59.478237200Z",
     "start_time": "2023-09-28T16:23:59.472741Z"
    }
   }
  },
  {
   "cell_type": "code",
   "execution_count": 17,
   "outputs": [
    {
     "data": {
      "text/plain": "  structureId chainId                                           sequence  \\\n0        100D       A                                         CCGGCGCCGG   \n1        100D       B                                         CCGGCGCCGG   \n2        101D       A                                       CGCGAATTCGCG   \n3        101D       B                                       CGCGAATTCGCG   \n4        101M       A  MVLSEGEWQLVLHVWAKVEADVAGHGQDILIRLFKSHPETLEKFDR...   \n\n   residueCount macromoleculeType  \n0            20    DNA/RNA Hybrid  \n1            20    DNA/RNA Hybrid  \n2            24               DNA  \n3            24               DNA  \n4           154           Protein  ",
      "text/html": "<div>\n<style scoped>\n    .dataframe tbody tr th:only-of-type {\n        vertical-align: middle;\n    }\n\n    .dataframe tbody tr th {\n        vertical-align: top;\n    }\n\n    .dataframe thead th {\n        text-align: right;\n    }\n</style>\n<table border=\"1\" class=\"dataframe\">\n  <thead>\n    <tr style=\"text-align: right;\">\n      <th></th>\n      <th>structureId</th>\n      <th>chainId</th>\n      <th>sequence</th>\n      <th>residueCount</th>\n      <th>macromoleculeType</th>\n    </tr>\n  </thead>\n  <tbody>\n    <tr>\n      <th>0</th>\n      <td>100D</td>\n      <td>A</td>\n      <td>CCGGCGCCGG</td>\n      <td>20</td>\n      <td>DNA/RNA Hybrid</td>\n    </tr>\n    <tr>\n      <th>1</th>\n      <td>100D</td>\n      <td>B</td>\n      <td>CCGGCGCCGG</td>\n      <td>20</td>\n      <td>DNA/RNA Hybrid</td>\n    </tr>\n    <tr>\n      <th>2</th>\n      <td>101D</td>\n      <td>A</td>\n      <td>CGCGAATTCGCG</td>\n      <td>24</td>\n      <td>DNA</td>\n    </tr>\n    <tr>\n      <th>3</th>\n      <td>101D</td>\n      <td>B</td>\n      <td>CGCGAATTCGCG</td>\n      <td>24</td>\n      <td>DNA</td>\n    </tr>\n    <tr>\n      <th>4</th>\n      <td>101M</td>\n      <td>A</td>\n      <td>MVLSEGEWQLVLHVWAKVEADVAGHGQDILIRLFKSHPETLEKFDR...</td>\n      <td>154</td>\n      <td>Protein</td>\n    </tr>\n  </tbody>\n</table>\n</div>"
     },
     "execution_count": 17,
     "metadata": {},
     "output_type": "execute_result"
    }
   ],
   "source": [
    "sequnce.head()"
   ],
   "metadata": {
    "collapsed": false,
    "ExecuteTime": {
     "end_time": "2023-09-28T16:23:59.512631600Z",
     "start_time": "2023-09-28T16:23:59.478237200Z"
    }
   }
  },
  {
   "cell_type": "code",
   "execution_count": 18,
   "outputs": [],
   "source": [
    "# the same columns in both datasets\n",
    "sequnce.drop(columns=['residueCount', 'macromoleculeType'], inplace=True)"
   ],
   "metadata": {
    "collapsed": false,
    "ExecuteTime": {
     "end_time": "2023-09-28T16:24:15.663116100Z",
     "start_time": "2023-09-28T16:24:15.584938500Z"
    }
   }
  },
  {
   "cell_type": "code",
   "execution_count": 19,
   "outputs": [],
   "source": [
    "df = data.merge(sequnce, how='inner', on='structureId')"
   ],
   "metadata": {
    "collapsed": false,
    "ExecuteTime": {
     "end_time": "2023-09-28T16:24:17.404955400Z",
     "start_time": "2023-09-28T16:24:17.052785100Z"
    }
   }
  },
  {
   "cell_type": "code",
   "execution_count": 21,
   "outputs": [
    {
     "name": "stdout",
     "output_type": "stream",
     "text": [
      "(346321, 16)\n"
     ]
    },
    {
     "data": {
      "text/plain": "   structureId         classification experimentalTechnique macromoleculeType  \\\n4         101M       OXYGEN TRANSPORT     X-RAY DIFFRACTION           Protein   \n7         102L  HYDROLASE(O-GLYCOSYL)     X-RAY DIFFRACTION           Protein   \n8         102M       OXYGEN TRANSPORT     X-RAY DIFFRACTION           Protein   \n11        103L  HYDROLASE(O-GLYCOSYL)     X-RAY DIFFRACTION           Protein   \n12        103M       OXYGEN TRANSPORT     X-RAY DIFFRACTION           Protein   \n\n    residueCount  resolution  structureMolecularWeight crystallizationMethod  \\\n4            154        2.07                  18112.80                   NaN   \n7            165        1.74                  18926.61                   NaN   \n8            154        1.84                  18010.64                   NaN   \n11           167        1.90                  19092.72                   NaN   \n12           154        2.07                  18093.78                   NaN   \n\n    crystallizationTempK  densityMatthews  densityPercentSol  \\\n4                    NaN             3.09              60.20   \n7                    NaN             2.75              55.28   \n8                    NaN             3.09              60.20   \n11                   NaN             2.70              54.46   \n12                   NaN             3.09              60.30   \n\n                                          pdbxDetails  phValue  \\\n4   3.0 M AMMONIUM SULFATE, 20 MM TRIS, 1MM EDTA, ...      9.0   \n7                                                 NaN      NaN   \n8   3.0 M AMMONIUM SULFATE, 20 MM TRIS, 1MM EDTA, ...      9.0   \n11                                                NaN      NaN   \n12  3.0 M AMMONIUM SULFATE, 20 MM TRIS, 1MM EDTA, ...      9.0   \n\n    publicationYear chainId                                           sequence  \n4            1999.0       A  MVLSEGEWQLVLHVWAKVEADVAGHGQDILIRLFKSHPETLEKFDR...  \n7            1993.0       A  MNIFEMLRIDEGLRLKIYKDTEGYYTIGIGHLLTKSPSLNAAAKSE...  \n8            1999.0       A  MVLSEGEWQLVLHVWAKVEADVAGHGQDILIRLFKSHPETLEKFDR...  \n11           1993.0       A  MNIFEMLRIDEGLRLKIYKDTEGYYTIGIGHLLTKSPSLNSLDAAK...  \n12           1999.0       A  MVLSEGEWQLVLHVWAKVEADVAGHGQDILIRLFKSHPETLEKFDR...  ",
      "text/html": "<div>\n<style scoped>\n    .dataframe tbody tr th:only-of-type {\n        vertical-align: middle;\n    }\n\n    .dataframe tbody tr th {\n        vertical-align: top;\n    }\n\n    .dataframe thead th {\n        text-align: right;\n    }\n</style>\n<table border=\"1\" class=\"dataframe\">\n  <thead>\n    <tr style=\"text-align: right;\">\n      <th></th>\n      <th>structureId</th>\n      <th>classification</th>\n      <th>experimentalTechnique</th>\n      <th>macromoleculeType</th>\n      <th>residueCount</th>\n      <th>resolution</th>\n      <th>structureMolecularWeight</th>\n      <th>crystallizationMethod</th>\n      <th>crystallizationTempK</th>\n      <th>densityMatthews</th>\n      <th>densityPercentSol</th>\n      <th>pdbxDetails</th>\n      <th>phValue</th>\n      <th>publicationYear</th>\n      <th>chainId</th>\n      <th>sequence</th>\n    </tr>\n  </thead>\n  <tbody>\n    <tr>\n      <th>4</th>\n      <td>101M</td>\n      <td>OXYGEN TRANSPORT</td>\n      <td>X-RAY DIFFRACTION</td>\n      <td>Protein</td>\n      <td>154</td>\n      <td>2.07</td>\n      <td>18112.80</td>\n      <td>NaN</td>\n      <td>NaN</td>\n      <td>3.09</td>\n      <td>60.20</td>\n      <td>3.0 M AMMONIUM SULFATE, 20 MM TRIS, 1MM EDTA, ...</td>\n      <td>9.0</td>\n      <td>1999.0</td>\n      <td>A</td>\n      <td>MVLSEGEWQLVLHVWAKVEADVAGHGQDILIRLFKSHPETLEKFDR...</td>\n    </tr>\n    <tr>\n      <th>7</th>\n      <td>102L</td>\n      <td>HYDROLASE(O-GLYCOSYL)</td>\n      <td>X-RAY DIFFRACTION</td>\n      <td>Protein</td>\n      <td>165</td>\n      <td>1.74</td>\n      <td>18926.61</td>\n      <td>NaN</td>\n      <td>NaN</td>\n      <td>2.75</td>\n      <td>55.28</td>\n      <td>NaN</td>\n      <td>NaN</td>\n      <td>1993.0</td>\n      <td>A</td>\n      <td>MNIFEMLRIDEGLRLKIYKDTEGYYTIGIGHLLTKSPSLNAAAKSE...</td>\n    </tr>\n    <tr>\n      <th>8</th>\n      <td>102M</td>\n      <td>OXYGEN TRANSPORT</td>\n      <td>X-RAY DIFFRACTION</td>\n      <td>Protein</td>\n      <td>154</td>\n      <td>1.84</td>\n      <td>18010.64</td>\n      <td>NaN</td>\n      <td>NaN</td>\n      <td>3.09</td>\n      <td>60.20</td>\n      <td>3.0 M AMMONIUM SULFATE, 20 MM TRIS, 1MM EDTA, ...</td>\n      <td>9.0</td>\n      <td>1999.0</td>\n      <td>A</td>\n      <td>MVLSEGEWQLVLHVWAKVEADVAGHGQDILIRLFKSHPETLEKFDR...</td>\n    </tr>\n    <tr>\n      <th>11</th>\n      <td>103L</td>\n      <td>HYDROLASE(O-GLYCOSYL)</td>\n      <td>X-RAY DIFFRACTION</td>\n      <td>Protein</td>\n      <td>167</td>\n      <td>1.90</td>\n      <td>19092.72</td>\n      <td>NaN</td>\n      <td>NaN</td>\n      <td>2.70</td>\n      <td>54.46</td>\n      <td>NaN</td>\n      <td>NaN</td>\n      <td>1993.0</td>\n      <td>A</td>\n      <td>MNIFEMLRIDEGLRLKIYKDTEGYYTIGIGHLLTKSPSLNSLDAAK...</td>\n    </tr>\n    <tr>\n      <th>12</th>\n      <td>103M</td>\n      <td>OXYGEN TRANSPORT</td>\n      <td>X-RAY DIFFRACTION</td>\n      <td>Protein</td>\n      <td>154</td>\n      <td>2.07</td>\n      <td>18093.78</td>\n      <td>NaN</td>\n      <td>NaN</td>\n      <td>3.09</td>\n      <td>60.30</td>\n      <td>3.0 M AMMONIUM SULFATE, 20 MM TRIS, 1MM EDTA, ...</td>\n      <td>9.0</td>\n      <td>1999.0</td>\n      <td>A</td>\n      <td>MVLSEGEWQLVLHVWAKVEADVAGHGQDILIRLFKSHPETLEKFDR...</td>\n    </tr>\n  </tbody>\n</table>\n</div>"
     },
     "execution_count": 21,
     "metadata": {},
     "output_type": "execute_result"
    }
   ],
   "source": [
    "# Drop rows with missing labels\n",
    "df = df[[type(c) == type('') for c in df.classification.values]]\n",
    "df = df[[type(c) == type('') for c in df.sequence.values]]\n",
    "# select proteins\n",
    "df = df[df.macromoleculeType == 'Protein']\n",
    "df.reset_index()\n",
    "print(df.shape)\n",
    "df.head()"
   ],
   "metadata": {
    "collapsed": false,
    "ExecuteTime": {
     "end_time": "2023-09-28T16:24:28.014275800Z",
     "start_time": "2023-09-28T16:24:27.535057100Z"
    }
   }
  },
  {
   "cell_type": "markdown",
   "source": [
    "remove some longer/shorter sequences"
   ],
   "metadata": {
    "collapsed": false
   }
  },
  {
   "cell_type": "code",
   "execution_count": 24,
   "outputs": [
    {
     "name": "stdout",
     "output_type": "stream",
     "text": [
      "5628.0\n"
     ]
    },
    {
     "data": {
      "text/plain": "count    346321.000000\nmean       4708.585243\nstd       26484.309151\nmin           3.000000\n25%         398.000000\n50%         856.000000\n75%        1976.000000\nmax      313236.000000\nName: residueCount, dtype: float64"
     },
     "execution_count": 24,
     "metadata": {},
     "output_type": "execute_result"
    }
   ],
   "source": [
    "print(df.residueCount.quantile(0.9))\n",
    "df.residueCount.describe()"
   ],
   "metadata": {
    "collapsed": false,
    "ExecuteTime": {
     "end_time": "2023-09-28T16:26:05.542229100Z",
     "start_time": "2023-09-28T16:26:05.469616900Z"
    }
   }
  },
  {
   "cell_type": "code",
   "execution_count": 25,
   "outputs": [
    {
     "name": "stdout",
     "output_type": "stream",
     "text": [
      "212258\n"
     ]
    },
    {
     "data": {
      "text/plain": "count    212258.000000\nmean        529.197415\nstd         305.092634\nmin           3.000000\n25%         280.000000\n50%         485.000000\n75%         768.000000\nmax        1198.000000\nName: residueCount, dtype: float64"
     },
     "execution_count": 25,
     "metadata": {},
     "output_type": "execute_result"
    }
   ],
   "source": [
    "df = df.loc[df.residueCount<1200]\n",
    "print(df.shape[0])\n",
    "df.residueCount.describe()"
   ],
   "metadata": {
    "collapsed": false,
    "ExecuteTime": {
     "end_time": "2023-09-28T16:26:50.012318400Z",
     "start_time": "2023-09-28T16:26:49.938474400Z"
    }
   }
  },
  {
   "cell_type": "markdown",
   "source": [
    "Only 10 most common classes are considered - because computational limitations"
   ],
   "metadata": {
    "collapsed": false
   }
  },
  {
   "cell_type": "code",
   "execution_count": 33,
   "outputs": [
    {
     "name": "stdout",
     "output_type": "stream",
     "text": [
      "at least 4015 instances per class\n"
     ]
    }
   ],
   "source": [
    "# count numbers of instances per class\n",
    "cnt = Counter(df.classification)\n",
    "# select only K most common classes! - was 10 by default\n",
    "top_classes = 10\n",
    "# sort classes\n",
    "sorted_classes = cnt.most_common()[:top_classes]\n",
    "classes = [c[0] for c in sorted_classes]\n",
    "counts = [c[1] for c in sorted_classes]\n",
    "print(\"at least \" + str(counts[-1]) + \" instances per class\")"
   ],
   "metadata": {
    "collapsed": false,
    "ExecuteTime": {
     "end_time": "2023-09-28T16:35:37.420754100Z",
     "start_time": "2023-09-28T16:35:37.206666100Z"
    }
   }
  },
  {
   "cell_type": "code",
   "execution_count": null,
   "outputs": [],
   "source": [
    "# apply to dataframe\n",
    "print(str(df.shape[0]) + \" instances before\")\n",
    "df = df[[c in classes for c in df.classification]]\n",
    "print(str(df.shape[0]) + \" instances after\")"
   ],
   "metadata": {
    "collapsed": false
   }
  },
  {
   "cell_type": "code",
   "execution_count": 37,
   "outputs": [],
   "source": [
    "seqs = df.sequence.values\n",
    "lengths = [len(s) for s in seqs]"
   ],
   "metadata": {
    "collapsed": false,
    "ExecuteTime": {
     "end_time": "2023-09-28T16:38:39.176922300Z",
     "start_time": "2023-09-28T16:38:39.150171100Z"
    }
   }
  },
  {
   "cell_type": "markdown",
   "source": [
    "Transform labels"
   ],
   "metadata": {
    "collapsed": false
   }
  },
  {
   "cell_type": "code",
   "execution_count": 35,
   "outputs": [],
   "source": [
    "# Transform labels to one-hot\n",
    "lb = LabelBinarizer()\n",
    "Y = lb.fit_transform(df.classification)"
   ],
   "metadata": {
    "collapsed": false,
    "ExecuteTime": {
     "end_time": "2023-09-28T16:37:10.165065400Z",
     "start_time": "2023-09-28T16:37:09.599649300Z"
    }
   }
  },
  {
   "cell_type": "code",
   "execution_count": 38,
   "outputs": [],
   "source": [
    "# maximum length of sequence, everything afterwards is discarded! Default 256\n",
    "# max_length = 256\n",
    "max_length = 350\n",
    "\n",
    "#create and fit tokenizer\n",
    "tokenizer = Tokenizer(char_level=True)\n",
    "tokenizer.fit_on_texts(seqs)\n",
    "#represent input data as word rank number sequences\n",
    "X = tokenizer.texts_to_sequences(seqs)\n",
    "X = sequence.pad_sequences(X, maxlen=max_length)"
   ],
   "metadata": {
    "collapsed": false,
    "ExecuteTime": {
     "end_time": "2023-09-28T16:38:53.406239100Z",
     "start_time": "2023-09-28T16:38:45.464620Z"
    }
   }
  },
  {
   "cell_type": "markdown",
   "source": [
    "Build keras model and fit"
   ],
   "metadata": {
    "collapsed": false
   }
  },
  {
   "cell_type": "code",
   "execution_count": 39,
   "outputs": [],
   "source": [
    "X_train, X_test, y_train, y_test = train_test_split(X, Y, test_size=.2)"
   ],
   "metadata": {
    "collapsed": false,
    "ExecuteTime": {
     "end_time": "2023-09-28T16:39:50.059522600Z",
     "start_time": "2023-09-28T16:39:49.948055100Z"
    }
   }
  },
  {
   "cell_type": "code",
   "execution_count": 40,
   "outputs": [
    {
     "name": "stdout",
     "output_type": "stream",
     "text": [
      "Model: \"sequential\"\n",
      "_________________________________________________________________\n",
      " Layer (type)                Output Shape              Param #   \n",
      "=================================================================\n",
      " embedding (Embedding)       (None, 350, 25)           650       \n",
      "                                                                 \n",
      " conv1d (Conv1D)             (None, 350, 128)          12928     \n",
      "                                                                 \n",
      " conv1d_1 (Conv1D)           (None, 346, 128)          82048     \n",
      "                                                                 \n",
      " average_pooling1d (Average  (None, 173, 128)          0         \n",
      " Pooling1D)                                                      \n",
      "                                                                 \n",
      " conv1d_2 (Conv1D)           (None, 161, 128)          114816    \n",
      "                                                                 \n",
      " batch_normalization (Batch  (None, 161, 128)          512       \n",
      " Normalization)                                                  \n",
      "                                                                 \n",
      " average_pooling1d_1 (Avera  (None, 80, 128)           0         \n",
      " gePooling1D)                                                    \n",
      "                                                                 \n",
      " global_average_pooling1d (  (None, 128)               0         \n",
      " GlobalAveragePooling1D)                                         \n",
      "                                                                 \n",
      " dense (Dense)               (None, 256)               33024     \n",
      "                                                                 \n",
      " batch_normalization_1 (Bat  (None, 256)               1024      \n",
      " chNormalization)                                                \n",
      "                                                                 \n",
      " dense_1 (Dense)             (None, 128)               32896     \n",
      "                                                                 \n",
      " batch_normalization_2 (Bat  (None, 128)               512       \n",
      " chNormalization)                                                \n",
      "                                                                 \n",
      " dense_2 (Dense)             (None, 10)                1290      \n",
      "                                                                 \n",
      "=================================================================\n",
      "Total params: 279700 (1.07 MB)\n",
      "Trainable params: 278676 (1.06 MB)\n",
      "Non-trainable params: 1024 (4.00 KB)\n",
      "_________________________________________________________________\n",
      "None\n"
     ]
    }
   ],
   "source": [
    "embedding_dim = 25 # orig 8\n",
    "\n",
    "# create the model\n",
    "model = Sequential()\n",
    "model.add(Embedding(len(tokenizer.word_index)+1, embedding_dim, input_length=max_length))\n",
    "model.add(Conv1D(filters=128, kernel_size=4, padding='same', activation='relu',dilation_rate=1))\n",
    "# model.add(Conv1D(filters=64, kernel_size=6, padding='same', activation='relu')) #orig\n",
    "model.add(Conv1D(filters=128, kernel_size=5, padding='valid', activation='relu',dilation_rate=1))\n",
    "# model.add(BatchNormalization())\n",
    "# model.add(MaxPooling1D(pool_size=2))\n",
    "model.add(AveragePooling1D(pool_size=2))\n",
    "# model.add(Conv1D(filters=32, kernel_size=3, padding='same', activation='relu')) # orig\n",
    "model.add(Conv1D(filters=128, kernel_size=7, padding='valid', activation='relu',dilation_rate=2)) \n",
    "model.add(BatchNormalization())\n",
    "# model.add(MaxPooling1D(pool_size=2))\n",
    "model.add(AveragePooling1D(pool_size=2))\n",
    "\n",
    "# model.add(Flatten()) ## Could do pooling instead \n",
    "# GlobalAveragePooling1D,GlobalMaxPooling1D\n",
    "model.add(GlobalAveragePooling1D())\n",
    "\n",
    "model.add(Dense(256, activation='relu')) # 128\n",
    "model.add(BatchNormalization())\n",
    "model.add(Dense(128, activation='relu')) # 128\n",
    "model.add(BatchNormalization())\n",
    "model.add(Dense(top_classes, activation='softmax'))\n",
    "model.compile(loss='categorical_crossentropy', optimizer='adam', metrics=['accuracy'])\n",
    "print(model.summary())"
   ],
   "metadata": {
    "collapsed": false,
    "ExecuteTime": {
     "end_time": "2023-09-28T16:40:07.299204900Z",
     "start_time": "2023-09-28T16:40:06.376743700Z"
    }
   }
  },
  {
   "cell_type": "code",
   "execution_count": 41,
   "outputs": [
    {
     "name": "stdout",
     "output_type": "stream",
     "text": [
      "Epoch 1/25\n",
      "591/591 [==============================] - ETA: 0s - loss: 1.4923 - accuracy: 0.4874WARNING:tensorflow:Early stopping conditioned on metric `val_acc` which is not available. Available metrics are: loss,accuracy,val_loss,val_accuracy\n",
      "591/591 [==============================] - 313s 525ms/step - loss: 1.4923 - accuracy: 0.4874 - val_loss: 2.1831 - val_accuracy: 0.2479\n",
      "Epoch 2/25\n",
      "591/591 [==============================] - ETA: 0s - loss: 1.0262 - accuracy: 0.6629WARNING:tensorflow:Early stopping conditioned on metric `val_acc` which is not available. Available metrics are: loss,accuracy,val_loss,val_accuracy\n",
      "591/591 [==============================] - 275s 464ms/step - loss: 1.0262 - accuracy: 0.6629 - val_loss: 1.9687 - val_accuracy: 0.3958\n",
      "Epoch 3/25\n",
      "591/591 [==============================] - ETA: 0s - loss: 0.7589 - accuracy: 0.7568WARNING:tensorflow:Early stopping conditioned on metric `val_acc` which is not available. Available metrics are: loss,accuracy,val_loss,val_accuracy\n",
      "591/591 [==============================] - 157s 266ms/step - loss: 0.7589 - accuracy: 0.7568 - val_loss: 2.3381 - val_accuracy: 0.4295\n",
      "Epoch 4/25\n",
      "591/591 [==============================] - ETA: 0s - loss: 0.6093 - accuracy: 0.8043WARNING:tensorflow:Early stopping conditioned on metric `val_acc` which is not available. Available metrics are: loss,accuracy,val_loss,val_accuracy\n",
      "591/591 [==============================] - 184s 312ms/step - loss: 0.6093 - accuracy: 0.8043 - val_loss: 3.6506 - val_accuracy: 0.3043\n",
      "Epoch 5/25\n",
      "591/591 [==============================] - ETA: 0s - loss: 0.5095 - accuracy: 0.8376WARNING:tensorflow:Early stopping conditioned on metric `val_acc` which is not available. Available metrics are: loss,accuracy,val_loss,val_accuracy\n",
      "591/591 [==============================] - 191s 322ms/step - loss: 0.5095 - accuracy: 0.8376 - val_loss: 2.2522 - val_accuracy: 0.4907\n",
      "Epoch 6/25\n",
      "591/591 [==============================] - ETA: 0s - loss: 0.4427 - accuracy: 0.8583WARNING:tensorflow:Early stopping conditioned on metric `val_acc` which is not available. Available metrics are: loss,accuracy,val_loss,val_accuracy\n",
      "591/591 [==============================] - 193s 327ms/step - loss: 0.4427 - accuracy: 0.8583 - val_loss: 2.7563 - val_accuracy: 0.4780\n",
      "Epoch 7/25\n",
      "591/591 [==============================] - ETA: 0s - loss: 0.3923 - accuracy: 0.8740WARNING:tensorflow:Early stopping conditioned on metric `val_acc` which is not available. Available metrics are: loss,accuracy,val_loss,val_accuracy\n",
      "591/591 [==============================] - 192s 325ms/step - loss: 0.3923 - accuracy: 0.8740 - val_loss: 1.7948 - val_accuracy: 0.6183\n",
      "Epoch 8/25\n",
      "591/591 [==============================] - ETA: 0s - loss: 0.3483 - accuracy: 0.8885WARNING:tensorflow:Early stopping conditioned on metric `val_acc` which is not available. Available metrics are: loss,accuracy,val_loss,val_accuracy\n",
      "591/591 [==============================] - 206s 349ms/step - loss: 0.3483 - accuracy: 0.8885 - val_loss: 2.4891 - val_accuracy: 0.4373\n",
      "Epoch 9/25\n",
      "591/591 [==============================] - ETA: 0s - loss: 0.3204 - accuracy: 0.8962WARNING:tensorflow:Early stopping conditioned on metric `val_acc` which is not available. Available metrics are: loss,accuracy,val_loss,val_accuracy\n",
      "591/591 [==============================] - 200s 338ms/step - loss: 0.3204 - accuracy: 0.8962 - val_loss: 1.7800 - val_accuracy: 0.5678\n",
      "Epoch 10/25\n",
      "591/591 [==============================] - ETA: 0s - loss: 0.2942 - accuracy: 0.9047WARNING:tensorflow:Early stopping conditioned on metric `val_acc` which is not available. Available metrics are: loss,accuracy,val_loss,val_accuracy\n",
      "591/591 [==============================] - 193s 327ms/step - loss: 0.2942 - accuracy: 0.9047 - val_loss: 2.3136 - val_accuracy: 0.4803\n",
      "Epoch 11/25\n",
      "591/591 [==============================] - ETA: 0s - loss: 0.2732 - accuracy: 0.9113WARNING:tensorflow:Early stopping conditioned on metric `val_acc` which is not available. Available metrics are: loss,accuracy,val_loss,val_accuracy\n",
      "591/591 [==============================] - 193s 327ms/step - loss: 0.2732 - accuracy: 0.9113 - val_loss: 2.0339 - val_accuracy: 0.4909\n",
      "Epoch 12/25\n",
      "591/591 [==============================] - ETA: 0s - loss: 0.2604 - accuracy: 0.9153WARNING:tensorflow:Early stopping conditioned on metric `val_acc` which is not available. Available metrics are: loss,accuracy,val_loss,val_accuracy\n",
      "591/591 [==============================] - 205s 347ms/step - loss: 0.2604 - accuracy: 0.9153 - val_loss: 2.6556 - val_accuracy: 0.4306\n",
      "Epoch 13/25\n",
      "591/591 [==============================] - ETA: 0s - loss: 0.2431 - accuracy: 0.9207WARNING:tensorflow:Early stopping conditioned on metric `val_acc` which is not available. Available metrics are: loss,accuracy,val_loss,val_accuracy\n",
      "591/591 [==============================] - 200s 339ms/step - loss: 0.2431 - accuracy: 0.9207 - val_loss: 1.8271 - val_accuracy: 0.6394\n",
      "Epoch 14/25\n",
      "591/591 [==============================] - ETA: 0s - loss: 0.2277 - accuracy: 0.9246WARNING:tensorflow:Early stopping conditioned on metric `val_acc` which is not available. Available metrics are: loss,accuracy,val_loss,val_accuracy\n",
      "591/591 [==============================] - 206s 349ms/step - loss: 0.2277 - accuracy: 0.9246 - val_loss: 2.1459 - val_accuracy: 0.5412\n",
      "Epoch 15/25\n",
      "591/591 [==============================] - ETA: 0s - loss: 0.2149 - accuracy: 0.9287WARNING:tensorflow:Early stopping conditioned on metric `val_acc` which is not available. Available metrics are: loss,accuracy,val_loss,val_accuracy\n",
      "591/591 [==============================] - 296s 502ms/step - loss: 0.2149 - accuracy: 0.9287 - val_loss: 1.3803 - val_accuracy: 0.6846\n",
      "Epoch 16/25\n",
      "591/591 [==============================] - ETA: 0s - loss: 0.2005 - accuracy: 0.9337WARNING:tensorflow:Early stopping conditioned on metric `val_acc` which is not available. Available metrics are: loss,accuracy,val_loss,val_accuracy\n",
      "591/591 [==============================] - 356s 603ms/step - loss: 0.2005 - accuracy: 0.9337 - val_loss: 1.4298 - val_accuracy: 0.6438\n",
      "Epoch 17/25\n",
      "591/591 [==============================] - ETA: 0s - loss: 0.1999 - accuracy: 0.9341WARNING:tensorflow:Early stopping conditioned on metric `val_acc` which is not available. Available metrics are: loss,accuracy,val_loss,val_accuracy\n",
      "591/591 [==============================] - 304s 515ms/step - loss: 0.1999 - accuracy: 0.9341 - val_loss: 1.0939 - val_accuracy: 0.7138\n",
      "Epoch 18/25\n",
      "591/591 [==============================] - ETA: 0s - loss: 0.1929 - accuracy: 0.9362WARNING:tensorflow:Early stopping conditioned on metric `val_acc` which is not available. Available metrics are: loss,accuracy,val_loss,val_accuracy\n",
      "591/591 [==============================] - 218s 369ms/step - loss: 0.1929 - accuracy: 0.9362 - val_loss: 3.1963 - val_accuracy: 0.4936\n",
      "Epoch 19/25\n",
      "591/591 [==============================] - ETA: 0s - loss: 0.1834 - accuracy: 0.9397WARNING:tensorflow:Early stopping conditioned on metric `val_acc` which is not available. Available metrics are: loss,accuracy,val_loss,val_accuracy\n",
      "591/591 [==============================] - 236s 399ms/step - loss: 0.1834 - accuracy: 0.9397 - val_loss: 2.3351 - val_accuracy: 0.5738\n",
      "Epoch 20/25\n",
      "591/591 [==============================] - ETA: 0s - loss: 0.1784 - accuracy: 0.9386WARNING:tensorflow:Early stopping conditioned on metric `val_acc` which is not available. Available metrics are: loss,accuracy,val_loss,val_accuracy\n",
      "591/591 [==============================] - 267s 453ms/step - loss: 0.1784 - accuracy: 0.9386 - val_loss: 2.4406 - val_accuracy: 0.5705\n",
      "Epoch 21/25\n",
      "591/591 [==============================] - ETA: 0s - loss: 0.1694 - accuracy: 0.9432WARNING:tensorflow:Early stopping conditioned on metric `val_acc` which is not available. Available metrics are: loss,accuracy,val_loss,val_accuracy\n",
      "591/591 [==============================] - 263s 445ms/step - loss: 0.1694 - accuracy: 0.9432 - val_loss: 3.1881 - val_accuracy: 0.4942\n",
      "Epoch 22/25\n",
      "591/591 [==============================] - ETA: 0s - loss: 0.1673 - accuracy: 0.9420WARNING:tensorflow:Early stopping conditioned on metric `val_acc` which is not available. Available metrics are: loss,accuracy,val_loss,val_accuracy\n",
      "591/591 [==============================] - 243s 410ms/step - loss: 0.1673 - accuracy: 0.9420 - val_loss: 0.7477 - val_accuracy: 0.8199\n",
      "Epoch 23/25\n",
      "591/591 [==============================] - ETA: 0s - loss: 0.1603 - accuracy: 0.9445WARNING:tensorflow:Early stopping conditioned on metric `val_acc` which is not available. Available metrics are: loss,accuracy,val_loss,val_accuracy\n",
      "591/591 [==============================] - 272s 461ms/step - loss: 0.1603 - accuracy: 0.9445 - val_loss: 2.0262 - val_accuracy: 0.6142\n",
      "Epoch 24/25\n",
      "591/591 [==============================] - ETA: 0s - loss: 0.1559 - accuracy: 0.9462WARNING:tensorflow:Early stopping conditioned on metric `val_acc` which is not available. Available metrics are: loss,accuracy,val_loss,val_accuracy\n",
      "591/591 [==============================] - 230s 389ms/step - loss: 0.1559 - accuracy: 0.9462 - val_loss: 1.1202 - val_accuracy: 0.7543\n",
      "Epoch 25/25\n",
      "591/591 [==============================] - ETA: 0s - loss: 0.1478 - accuracy: 0.9489WARNING:tensorflow:Early stopping conditioned on metric `val_acc` which is not available. Available metrics are: loss,accuracy,val_loss,val_accuracy\n",
      "591/591 [==============================] - 213s 360ms/step - loss: 0.1478 - accuracy: 0.9489 - val_loss: 1.2102 - val_accuracy: 0.7339\n"
     ]
    },
    {
     "data": {
      "text/plain": "<keras.src.callbacks.History at 0x239c4d74a90>"
     },
     "execution_count": 41,
     "metadata": {},
     "output_type": "execute_result"
    }
   ],
   "source": [
    "es = EarlyStopping(monitor='val_acc', verbose=1, patience=3)\n",
    "\n",
    "model.fit(X_train, y_train,  batch_size=128, verbose=1, validation_split=0.15,callbacks=[es],epochs=25) # epochs=15, # batch_size=128"
   ],
   "metadata": {
    "collapsed": false,
    "ExecuteTime": {
     "end_time": "2023-09-28T18:17:22.032793Z",
     "start_time": "2023-09-28T16:40:34.312986600Z"
    }
   }
  },
  {
   "cell_type": "code",
   "execution_count": 48,
   "outputs": [
    {
     "name": "stdout",
     "output_type": "stream",
     "text": [
      "2780/2780 [==============================] - 69s 25ms/step\n",
      "695/695 [==============================] - 16s 22ms/step\n"
     ]
    }
   ],
   "source": [
    "train_pred = model.predict(X_train)\n",
    "test_pred = model.predict(X_test)"
   ],
   "metadata": {
    "collapsed": false,
    "ExecuteTime": {
     "end_time": "2023-09-28T18:22:39.179272800Z",
     "start_time": "2023-09-28T18:21:13.362633Z"
    }
   }
  },
  {
   "cell_type": "code",
   "execution_count": 50,
   "outputs": [
    {
     "name": "stdout",
     "output_type": "stream",
     "text": [
      "train-acc = 0.7735685692439167\n",
      "test-acc = 0.7332014032562741\n"
     ]
    }
   ],
   "source": [
    "print(\"train-acc = \" + str(accuracy_score(np.argmax(y_train, axis=1), np.argmax(train_pred, axis=1))))\n",
    "print(\"test-acc = \" + str(accuracy_score(np.argmax(y_test, axis=1), np.argmax(test_pred, axis=1))))"
   ],
   "metadata": {
    "collapsed": false,
    "ExecuteTime": {
     "end_time": "2023-09-28T18:22:54.302658600Z",
     "start_time": "2023-09-28T18:22:54.252173400Z"
    }
   }
  },
  {
   "cell_type": "code",
   "execution_count": 51,
   "outputs": [
    {
     "data": {
      "text/plain": "<Figure size 1000x1000 with 2 Axes>",
      "image/png": "[encoded data removed]"
     },
     "metadata": {},
     "output_type": "display_data"
    },
    {
     "name": "stdout",
     "output_type": "stream",
     "text": [
      "                               precision    recall  f1-score   support\n",
      "\n",
      "                    HYDROLASE       0.78      0.73      0.76      5854\n",
      "HYDROLASE/HYDROLASE INHIBITOR       0.60      0.62      0.61       946\n",
      "                IMMUNE SYSTEM       0.97      0.75      0.85      2138\n",
      "                    ISOMERASE       0.76      0.58      0.66       813\n",
      "                        LYASE       0.76      0.89      0.82      1203\n",
      "               OXIDOREDUCTASE       0.49      0.99      0.65      3226\n",
      "            SIGNALING PROTEIN       0.91      0.35      0.50      1030\n",
      "                TRANSCRIPTION       0.94      0.59      0.72      1400\n",
      "                  TRANSFERASE       0.90      0.76      0.82      4666\n",
      "            TRANSPORT PROTEIN       0.95      0.44      0.60       958\n",
      "\n",
      "                     accuracy                           0.73     22234\n",
      "                    macro avg       0.81      0.67      0.70     22234\n",
      "                 weighted avg       0.80      0.73      0.74     22234\n"
     ]
    }
   ],
   "source": [
    "# Compute confusion matrix\n",
    "cm = confusion_matrix(np.argmax(y_test, axis=1), np.argmax(test_pred, axis=1))\n",
    "\n",
    "# Plot normalized confusion matrix\n",
    "cm = cm.astype('float') / cm.sum(axis=1)[:, np.newaxis]\n",
    "np.set_printoptions(precision=2)\n",
    "plt.figure(figsize=(10,10))\n",
    "plt.imshow(cm, interpolation='nearest', cmap=plt.cm.Blues)\n",
    "plt.title('Confusion matrix')\n",
    "plt.colorbar()\n",
    "tick_marks = np.arange(len(lb.classes_))\n",
    "plt.xticks(tick_marks, lb.classes_, rotation=90)\n",
    "plt.yticks(tick_marks, lb.classes_)\n",
    "#for i, j in itertools.product(range(cm.shape[0]), range(cm.shape[1])):\n",
    "#    plt.text(j, i, format(cm[i, j], '.2f'), horizontalalignment=\"center\", color=\"white\" if cm[i, j] > cm.max() / 2. else \"black\")\n",
    "plt.ylabel('True label')\n",
    "plt.xlabel('Predicted label')\n",
    "plt.show()\n",
    "\n",
    "print(classification_report(np.argmax(y_test, axis=1), np.argmax(test_pred, axis=1), target_names=lb.classes_))"
   ],
   "metadata": {
    "collapsed": false,
    "ExecuteTime": {
     "end_time": "2023-09-28T18:23:04.834148700Z",
     "start_time": "2023-09-28T18:23:04.236462800Z"
    }
   }
  },
  {
   "cell_type": "code",
   "execution_count": 53,
   "outputs": [],
   "source": [
    "model.save('trained_model/protein_classification.keras')"
   ],
   "metadata": {
    "collapsed": false,
    "ExecuteTime": {
     "end_time": "2023-09-28T18:26:47.543504600Z",
     "start_time": "2023-09-28T18:26:47.484543200Z"
    }
   }
  },
  {
   "cell_type": "markdown",
   "source": [
    "Test example"
   ],
   "metadata": {
    "collapsed": false
   }
  },
  {
   "cell_type": "code",
   "execution_count": 63,
   "outputs": [],
   "source": [
    "X_test = tokenizer.texts_to_sequences(seqs[0])\n",
    "X_test = sequence.pad_sequences(X_test, maxlen=max_length)"
   ],
   "metadata": {
    "collapsed": false,
    "ExecuteTime": {
     "end_time": "2023-09-28T18:47:42.315387900Z",
     "start_time": "2023-09-28T18:47:42.283653300Z"
    }
   }
  },
  {
   "cell_type": "code",
   "execution_count": 65,
   "outputs": [
    {
     "data": {
      "text/plain": "array([[ 0,  0,  0, ...,  0,  0,  9],\n       [ 0,  0,  0, ...,  0,  0, 16],\n       [ 0,  0,  0, ...,  0,  0,  9],\n       ...,\n       [ 0,  0,  0, ...,  0,  0,  3],\n       [ 0,  0,  0, ...,  0,  0,  6],\n       [ 0,  0,  0, ...,  0,  0,  4]])"
     },
     "execution_count": 65,
     "metadata": {},
     "output_type": "execute_result"
    }
   ],
   "source": [
    "X_test"
   ],
   "metadata": {
    "collapsed": false,
    "ExecuteTime": {
     "end_time": "2023-09-28T18:50:58.546655100Z",
     "start_time": "2023-09-28T18:50:58.515188600Z"
    }
   }
  },
  {
   "cell_type": "code",
   "execution_count": 66,
   "outputs": [
    {
     "name": "stdout",
     "output_type": "stream",
     "text": [
      "True class: HYDROLASE\n"
     ]
    }
   ],
   "source": [
    "# I want to predict the class of the protein in X_test variable\n"
   ],
   "metadata": {
    "collapsed": false,
    "ExecuteTime": {
     "end_time": "2023-09-28T18:52:16.044215300Z",
     "start_time": "2023-09-28T18:52:16.020328Z"
    }
   }
  },
  {
   "cell_type": "code",
   "execution_count": 67,
   "outputs": [
    {
     "data": {
      "text/plain": "'TYTTRQIGAKNTLEYKVYIEKDGKPVSAFHDIPLYADKENNIFNMVVEIPRWTNAKLEITKEETLNPIIQDTKKGKLRFVRNCFPHHGYIHNYGAFPQTWEDPNVSHPETKAVGDNEPIDVLEIGETIAYTGQVKQVKALGIMALLDEGETDWKVIAIDINDPLAPKLNDIEDVEKYFPGLLRATNEWFRIYKIPDGKPENQFAFSGEAKNKKYALDIIKETHDSWKQLIAGKSSDSKGIDLTNVTLPDTPTYSKAASDAIPPASLKADAPIDKSIDKWFFISGSV'"
     },
     "execution_count": 67,
     "metadata": {},
     "output_type": "execute_result"
    }
   ],
   "source": [
    "seqs[0]"
   ],
   "metadata": {
    "collapsed": false,
    "ExecuteTime": {
     "end_time": "2023-09-28T18:53:14.472889800Z",
     "start_time": "2023-09-28T18:53:14.457166800Z"
    }
   }
  },
  {
   "cell_type": "code",
   "execution_count": 68,
   "outputs": [
    {
     "name": "stdout",
     "output_type": "stream",
     "text": [
      "9/9 [==============================] - 0s 22ms/step\n"
     ]
    },
    {
     "data": {
      "text/plain": "array([[8.12e-01, 1.72e-01, 1.66e-07, ..., 2.60e-07, 1.54e-02, 2.90e-06],\n       [8.29e-01, 1.52e-01, 1.18e-07, ..., 2.64e-07, 1.74e-02, 2.99e-06],\n       [8.12e-01, 1.72e-01, 1.66e-07, ..., 2.60e-07, 1.54e-02, 2.90e-06],\n       ...,\n       [8.34e-01, 1.52e-01, 1.05e-07, ..., 1.98e-07, 1.29e-02, 2.50e-06],\n       [8.29e-01, 1.55e-01, 1.25e-07, ..., 2.24e-07, 1.49e-02, 2.53e-06],\n       [7.60e-01, 2.31e-01, 1.25e-07, ..., 9.48e-08, 8.49e-03, 1.83e-06]],\n      dtype=float32)"
     },
     "execution_count": 68,
     "metadata": {},
     "output_type": "execute_result"
    }
   ],
   "source": [
    "# I want to predict the class of the protein in X_test variable\n",
    "model.predict(X_test)"
   ],
   "metadata": {
    "collapsed": false,
    "ExecuteTime": {
     "end_time": "2023-09-28T18:53:56.369429Z",
     "start_time": "2023-09-28T18:53:56.130700700Z"
    }
   }
  },
  {
   "cell_type": "markdown",
   "source": [
    "x"
   ],
   "metadata": {
    "collapsed": false
   }
  },
  {
   "cell_type": "code",
   "execution_count": 69,
   "outputs": [],
   "source": [
    "# I want to predict the class of the following protein 'TYTTRQIGAKNTLEYKV'\n",
    "X_test_2 = tokenizer.texts_to_sequences(['TYTTRQIGAKNTLEYKV'])"
   ],
   "metadata": {
    "collapsed": false,
    "ExecuteTime": {
     "end_time": "2023-09-28T18:55:32.499726500Z",
     "start_time": "2023-09-28T18:55:32.483503600Z"
    }
   }
  },
  {
   "cell_type": "code",
   "execution_count": 70,
   "outputs": [
    {
     "data": {
      "text/plain": "array([[ 0,  0,  0,  0,  0,  0,  0,  0,  0,  0,  0,  0,  0,  0,  0,  0,\n         0,  0,  0,  0,  0,  0,  0,  0,  0,  0,  0,  0,  0,  0,  0,  0,\n         0,  0,  0,  0,  0,  0,  0,  0,  0,  0,  0,  0,  0,  0,  0,  0,\n         0,  0,  0,  0,  0,  0,  0,  0,  0,  0,  0,  0,  0,  0,  0,  0,\n         0,  0,  0,  0,  0,  0,  0,  0,  0,  0,  0,  0,  0,  0,  0,  0,\n         0,  0,  0,  0,  0,  0,  0,  0,  0,  0,  0,  0,  0,  0,  0,  0,\n         0,  0,  0,  0,  0,  0,  0,  0,  0,  0,  0,  0,  0,  0,  0,  0,\n         0,  0,  0,  0,  0,  0,  0,  0,  0,  0,  0,  0,  0,  0,  0,  0,\n         0,  0,  0,  0,  0,  0,  0,  0,  0,  0,  0,  0,  0,  0,  0,  0,\n         0,  0,  0,  0,  0,  0,  0,  0,  0,  0,  0,  0,  0,  0,  0,  0,\n         0,  0,  0,  0,  0,  0,  0,  0,  0,  0,  0,  0,  0,  0,  0,  0,\n         0,  0,  0,  0,  0,  0,  0,  0,  0,  0,  0,  0,  0,  0,  0,  0,\n         0,  0,  0,  0,  0,  0,  0,  0,  0,  0,  0,  0,  0,  0,  0,  0,\n         0,  0,  0,  0,  0,  0,  0,  0,  0,  0,  0,  0,  0,  0,  0,  0,\n         0,  0,  0,  0,  0,  0,  0,  0,  0,  0,  0,  0,  0,  0,  0,  0,\n         0,  0,  0,  0,  0,  0,  0,  0,  0,  0,  0,  0,  0,  0,  0,  0,\n         0,  0,  0,  0,  0,  0,  0,  0,  0,  0,  0,  0,  0,  0,  0,  0,\n         0,  0,  0,  0,  0,  0,  0,  0,  0,  0,  0,  0,  0,  0,  0,  0,\n         0,  0,  0,  0,  0,  0,  0,  0,  0,  0,  0,  0,  0,  0,  0,  0,\n         0,  0,  0,  0,  0,  0,  0,  0,  0,  0,  0,  0,  0,  0,  0,  0,\n         0,  0,  0,  0,  0,  0,  0,  0,  0,  0,  0,  0,  0,  9, 16,  9,\n         9, 11, 15, 10,  3,  2,  8, 13,  9,  1,  5, 16,  8,  4]])"
     },
     "execution_count": 70,
     "metadata": {},
     "output_type": "execute_result"
    }
   ],
   "source": [
    "# I want to predict the class of the following protein 'TYTTRQIGAKNTLEYKV'\n",
    "X_test_2 = tokenizer.texts_to_sequences(['TYTTRQIGAKNTLEYKV'])\n",
    "X_test_2 = sequence.pad_sequences(X_test_2, maxlen=max_length)\n",
    "X_test_2"
   ],
   "metadata": {
    "collapsed": false,
    "ExecuteTime": {
     "end_time": "2023-09-28T18:56:38.676446300Z",
     "start_time": "2023-09-28T18:56:38.660654400Z"
    }
   }
  },
  {
   "cell_type": "code",
   "execution_count": 71,
   "outputs": [
    {
     "name": "stdout",
     "output_type": "stream",
     "text": [
      "1/1 [==============================] - 0s 16ms/step\n"
     ]
    },
    {
     "data": {
      "text/plain": "array([[8.15e-02, 1.12e-03, 6.80e-06, 2.52e-04, 1.05e-05, 1.13e-01,\n        6.94e-06, 3.59e-04, 8.04e-01, 7.32e-04]], dtype=float32)"
     },
     "execution_count": 71,
     "metadata": {},
     "output_type": "execute_result"
    }
   ],
   "source": [
    "# I want to visualize the prediction\n",
    "model.predict(X_test_2)"
   ],
   "metadata": {
    "collapsed": false,
    "ExecuteTime": {
     "end_time": "2023-09-28T18:57:18.533921200Z",
     "start_time": "2023-09-28T18:57:18.439956700Z"
    }
   }
  },
  {
   "cell_type": "code",
   "execution_count": 75,
   "outputs": [
    {
     "data": {
      "text/plain": "array(['HYDROLASE', 'HYDROLASE/HYDROLASE INHIBITOR', 'IMMUNE SYSTEM',\n       'ISOMERASE', 'LYASE', 'OXIDOREDUCTASE', 'SIGNALING PROTEIN',\n       'TRANSCRIPTION', 'TRANSFERASE', 'TRANSPORT PROTEIN'], dtype='<U29')"
     },
     "execution_count": 75,
     "metadata": {},
     "output_type": "execute_result"
    }
   ],
   "source": [
    "# I want to write the class name instead of the class number and replace it\n",
    "\n",
    "lb.classes_\n"
   ],
   "metadata": {
    "collapsed": false,
    "ExecuteTime": {
     "end_time": "2023-09-28T19:04:44.184563900Z",
     "start_time": "2023-09-28T19:04:44.146207600Z"
    }
   }
  },
  {
   "cell_type": "code",
   "execution_count": 79,
   "outputs": [],
   "source": [
    "from keras.preprocessing.text import Tokenizer\n",
    "\n",
    "# Convert the tokenizer to a JSON string and save it to a file\n",
    "tokenizer_json = tokenizer.to_json()\n",
    "with open('trained_model/tokenizer.json', 'w', encoding='utf-8') as f:\n",
    "    f.write(tokenizer_json)"
   ],
   "metadata": {
    "collapsed": false,
    "ExecuteTime": {
     "end_time": "2023-09-28T19:15:36.630356400Z",
     "start_time": "2023-09-28T19:15:36.600550100Z"
    }
   }
  },
  {
   "cell_type": "code",
   "execution_count": 77,
   "outputs": [],
   "source": [
    "from keras.models import load_model\n",
    "model_2 = load_model('trained_model/protein_classification.keras')"
   ],
   "metadata": {
    "collapsed": false,
    "ExecuteTime": {
     "end_time": "2023-09-28T19:07:42.971109800Z",
     "start_time": "2023-09-28T19:07:42.747324100Z"
    }
   }
  },
  {
   "cell_type": "code",
   "execution_count": 78,
   "outputs": [
    {
     "data": {
      "text/plain": "<keras.src.engine.sequential.Sequential at 0x239c5ab3490>"
     },
     "execution_count": 78,
     "metadata": {},
     "output_type": "execute_result"
    }
   ],
   "source": [
    "model_2"
   ],
   "metadata": {
    "collapsed": false,
    "ExecuteTime": {
     "end_time": "2023-09-28T19:07:46.121720600Z",
     "start_time": "2023-09-28T19:07:46.089215800Z"
    }
   }
  },
  {
   "cell_type": "code",
   "execution_count": 81,
   "outputs": [],
   "source": [
    "from keras.preprocessing.text import Tokenizer\n",
    "from keras.preprocessing.text import tokenizer_from_json\n",
    "from keras.preprocessing import sequence\n",
    "\n",
    "with open('trained_model/tokenizer.json', 'r', encoding='utf-8') as f:\n",
    "    loaded_tokenizer_json = f.read()\n",
    "    loaded_tokenizer = tokenizer_from_json(loaded_tokenizer_json)"
   ],
   "metadata": {
    "collapsed": false,
    "ExecuteTime": {
     "end_time": "2023-09-28T19:16:42.056112500Z",
     "start_time": "2023-09-28T19:16:42.040084600Z"
    }
   }
  },
  {
   "cell_type": "code",
   "execution_count": 84,
   "outputs": [
    {
     "data": {
      "text/plain": "<keras.src.preprocessing.text.Tokenizer at 0x239c578dd00>"
     },
     "execution_count": 84,
     "metadata": {},
     "output_type": "execute_result"
    }
   ],
   "source": [
    "loaded_tokenizer"
   ],
   "metadata": {
    "collapsed": false,
    "ExecuteTime": {
     "end_time": "2023-09-28T19:18:06.164518Z",
     "start_time": "2023-09-28T19:18:06.117217500Z"
    }
   }
  },
  {
   "cell_type": "code",
   "execution_count": 100,
   "outputs": [],
   "source": [
    "test_protein = seqs[0]"
   ],
   "metadata": {
    "collapsed": false,
    "ExecuteTime": {
     "end_time": "2023-09-28T19:27:42.144506800Z",
     "start_time": "2023-09-28T19:27:42.112426800Z"
    }
   }
  },
  {
   "cell_type": "code",
   "execution_count": 101,
   "outputs": [],
   "source": [
    "max_length = 350\n",
    "\n",
    "test_protein = loaded_tokenizer.texts_to_sequences(test_protein)\n",
    "test_protein = sequence.pad_sequences(X_test_2, maxlen=max_length)"
   ],
   "metadata": {
    "collapsed": false,
    "ExecuteTime": {
     "end_time": "2023-09-28T19:27:42.540249900Z",
     "start_time": "2023-09-28T19:27:42.520482800Z"
    }
   }
  },
  {
   "cell_type": "code",
   "execution_count": 102,
   "outputs": [
    {
     "data": {
      "text/plain": "array([[ 0,  0,  0,  0,  0,  0,  0,  0,  0,  0,  0,  0,  0,  0,  0,  0,\n         0,  0,  0,  0,  0,  0,  0,  0,  0,  0,  0,  0,  0,  0,  0,  0,\n         0,  0,  0,  0,  0,  0,  0,  0,  0,  0,  0,  0,  0,  0,  0,  0,\n         0,  0,  0,  0,  0,  0,  0,  0,  0,  0,  0,  0,  0,  0,  0,  0,\n         0,  0,  0,  0,  0,  0,  0,  0,  0,  0,  0,  0,  0,  0,  0,  0,\n         0,  0,  0,  0,  0,  0,  0,  0,  0,  0,  0,  0,  0,  0,  0,  0,\n         0,  0,  0,  0,  0,  0,  0,  0,  0,  0,  0,  0,  0,  0,  0,  0,\n         0,  0,  0,  0,  0,  0,  0,  0,  0,  0,  0,  0,  0,  0,  0,  0,\n         0,  0,  0,  0,  0,  0,  0,  0,  0,  0,  0,  0,  0,  0,  0,  0,\n         0,  0,  0,  0,  0,  0,  0,  0,  0,  0,  0,  0,  0,  0,  0,  0,\n         0,  0,  0,  0,  0,  0,  0,  0,  0,  0,  0,  0,  0,  0,  0,  0,\n         0,  0,  0,  0,  0,  0,  0,  0,  0,  0,  0,  0,  0,  0,  0,  0,\n         0,  0,  0,  0,  0,  0,  0,  0,  0,  0,  0,  0,  0,  0,  0,  0,\n         0,  0,  0,  0,  0,  0,  0,  0,  0,  0,  0,  0,  0,  0,  0,  0,\n         0,  0,  0,  0,  0,  0,  0,  0,  0,  0,  0,  0,  0,  0,  0,  0,\n         0,  0,  0,  0,  0,  0,  0,  0,  0,  0,  0,  0,  0,  0,  0,  0,\n         0,  0,  0,  0,  0,  0,  0,  0,  0,  0,  0,  0,  0,  0,  0,  0,\n         0,  0,  0,  0,  0,  0,  0,  0,  0,  0,  0,  0,  0,  0,  0,  0,\n         0,  0,  0,  0,  0,  0,  0,  0,  0,  0,  0,  0,  0,  0,  0,  0,\n         0,  0,  0,  0,  0,  0,  0,  0,  0,  0,  0,  0,  0,  0,  0,  0,\n         0,  0,  0,  0,  0,  0,  0,  0,  0,  0,  0,  0,  0,  9, 16,  9,\n         9, 11, 15, 10,  3,  2,  8, 13,  9,  1,  5, 16,  8,  4]])"
     },
     "execution_count": 102,
     "metadata": {},
     "output_type": "execute_result"
    }
   ],
   "source": [
    "test_protein"
   ],
   "metadata": {
    "collapsed": false,
    "ExecuteTime": {
     "end_time": "2023-09-28T19:27:42.963713Z",
     "start_time": "2023-09-28T19:27:42.940219Z"
    }
   }
  },
  {
   "cell_type": "code",
   "execution_count": 103,
   "outputs": [
    {
     "name": "stdout",
     "output_type": "stream",
     "text": [
      "1/1 [==============================] - 0s 10ms/step\n"
     ]
    }
   ],
   "source": [
    "predicted_protein = model_2.predict(test_protein)"
   ],
   "metadata": {
    "collapsed": false,
    "ExecuteTime": {
     "end_time": "2023-09-28T19:27:43.520087800Z",
     "start_time": "2023-09-28T19:27:43.455184Z"
    }
   }
  },
  {
   "cell_type": "code",
   "execution_count": 115,
   "outputs": [],
   "source": [
    "predicted_protein = pd.DataFrame(predicted_protein)"
   ],
   "metadata": {
    "collapsed": false,
    "ExecuteTime": {
     "end_time": "2023-09-28T19:33:38.211555300Z",
     "start_time": "2023-09-28T19:33:38.180261800Z"
    }
   }
  },
  {
   "cell_type": "code",
   "execution_count": 132,
   "outputs": [],
   "source": [
    "col_names = ['HYDROLASE',\n",
    " 'HYDROLASE/HYDROLASE INHIBITOR',\n",
    " 'IMMUNE SYSTEM',\n",
    " 'ISOMERASE',\n",
    " 'LYASE',\n",
    " 'OXIDOREDUCTASE',\n",
    " 'SIGNALING PROTEIN',\n",
    " 'TRANSCRIPTION',\n",
    " 'TRANSFERASE',\n",
    " 'TRANSPORT PROTEIN']"
   ],
   "metadata": {
    "collapsed": false,
    "ExecuteTime": {
     "end_time": "2023-09-28T19:43:25.073550500Z",
     "start_time": "2023-09-28T19:43:25.050925500Z"
    }
   }
  },
  {
   "cell_type": "code",
   "execution_count": 134,
   "outputs": [],
   "source": [
    "predicted_protein.columns = col_names"
   ],
   "metadata": {
    "collapsed": false,
    "ExecuteTime": {
     "end_time": "2023-09-28T19:44:13.747395800Z",
     "start_time": "2023-09-28T19:44:13.699282300Z"
    }
   }
  },
  {
   "cell_type": "code",
   "execution_count": 135,
   "outputs": [
    {
     "data": {
      "text/plain": "   HYDROLASE  HYDROLASE/HYDROLASE INHIBITOR  IMMUNE SYSTEM  ISOMERASE  \\\n0   0.081481                       0.001121       0.000007   0.000252   \n\n      LYASE  OXIDOREDUCTASE  SIGNALING PROTEIN  TRANSCRIPTION  TRANSFERASE  \\\n0  0.000011         0.11253           0.000007       0.000359     0.803501   \n\n   TRANSPORT PROTEIN  \n0           0.000732  ",
      "text/html": "<div>\n<style scoped>\n    .dataframe tbody tr th:only-of-type {\n        vertical-align: middle;\n    }\n\n    .dataframe tbody tr th {\n        vertical-align: top;\n    }\n\n    .dataframe thead th {\n        text-align: right;\n    }\n</style>\n<table border=\"1\" class=\"dataframe\">\n  <thead>\n    <tr style=\"text-align: right;\">\n      <th></th>\n      <th>HYDROLASE</th>\n      <th>HYDROLASE/HYDROLASE INHIBITOR</th>\n      <th>IMMUNE SYSTEM</th>\n      <th>ISOMERASE</th>\n      <th>LYASE</th>\n      <th>OXIDOREDUCTASE</th>\n      <th>SIGNALING PROTEIN</th>\n      <th>TRANSCRIPTION</th>\n      <th>TRANSFERASE</th>\n      <th>TRANSPORT PROTEIN</th>\n    </tr>\n  </thead>\n  <tbody>\n    <tr>\n      <th>0</th>\n      <td>0.081481</td>\n      <td>0.001121</td>\n      <td>0.000007</td>\n      <td>0.000252</td>\n      <td>0.000011</td>\n      <td>0.11253</td>\n      <td>0.000007</td>\n      <td>0.000359</td>\n      <td>0.803501</td>\n      <td>0.000732</td>\n    </tr>\n  </tbody>\n</table>\n</div>"
     },
     "execution_count": 135,
     "metadata": {},
     "output_type": "execute_result"
    }
   ],
   "source": [
    "predicted_protein"
   ],
   "metadata": {
    "collapsed": false,
    "ExecuteTime": {
     "end_time": "2023-09-28T19:44:21.665378900Z",
     "start_time": "2023-09-28T19:44:21.607406900Z"
    }
   }
  },
  {
   "cell_type": "code",
   "execution_count": 137,
   "outputs": [],
   "source": [
    "predicted_class = predicted_protein.max().idxmax()"
   ],
   "metadata": {
    "collapsed": false,
    "ExecuteTime": {
     "end_time": "2023-09-28T19:47:53.140274800Z",
     "start_time": "2023-09-28T19:47:53.108289500Z"
    }
   }
  },
  {
   "cell_type": "code",
   "execution_count": 138,
   "outputs": [
    {
     "data": {
      "text/plain": "'TRANSFERASE'"
     },
     "execution_count": 138,
     "metadata": {},
     "output_type": "execute_result"
    }
   ],
   "source": [
    "predicted_class"
   ],
   "metadata": {
    "collapsed": false,
    "ExecuteTime": {
     "end_time": "2023-09-28T19:47:57.616419Z",
     "start_time": "2023-09-28T19:47:57.488755300Z"
    }
   }
  },
  {
   "cell_type": "code",
   "execution_count": null,
   "outputs": [],
   "source": [],
   "metadata": {
    "collapsed": false
   }
  }
 ],
 "metadata": {
  "kernelspec": {
   "display_name": "Python 3",
   "language": "python",
   "name": "python3"
  },
  "language_info": {
   "codemirror_mode": {
    "name": "ipython",
    "version": 2
   },
   "file_extension": ".py",
   "mimetype": "text/x-python",
   "name": "python",
   "nbconvert_exporter": "python",
   "pygments_lexer": "ipython2",
   "version": "2.7.6"
  }
 },
 "nbformat": 4,
 "nbformat_minor": 0
}
