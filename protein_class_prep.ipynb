{
 "cells": [
  {
   "cell_type": "code",
   "execution_count": 1,
   "metadata": {
    "collapsed": true
   },
   "outputs": [],
   "source": [
    "import pandas as pd"
   ]
  },
  {
   "cell_type": "code",
   "execution_count": null,
   "outputs": [],
   "source": [
    "# https://www.kaggle.com/code/danofer/deep-protein-sequence-family-classification/notebook"
   ],
   "metadata": {
    "collapsed": false
   }
  },
  {
   "cell_type": "code",
   "execution_count": 14,
   "outputs": [],
   "source": [
    "data = pd.read_csv(\"protein_class_prep/pdb_data_no_dups.csv\")"
   ],
   "metadata": {
    "collapsed": false
   }
  },
  {
   "cell_type": "code",
   "execution_count": 15,
   "outputs": [],
   "source": [
    "sequnce = pd.read_csv(\"protein_class_prep/pdb_data_seq.csv\")"
   ],
   "metadata": {
    "collapsed": false
   }
  },
  {
   "cell_type": "code",
   "execution_count": 16,
   "outputs": [
    {
     "data": {
      "text/plain": "  structureId         classification experimentalTechnique macromoleculeType  \\\n0        100D         DNA-RNA HYBRID     X-RAY DIFFRACTION    DNA/RNA Hybrid   \n1        101D                    DNA     X-RAY DIFFRACTION               DNA   \n2        101M       OXYGEN TRANSPORT     X-RAY DIFFRACTION           Protein   \n3        102D                    DNA     X-RAY DIFFRACTION               DNA   \n4        102L  HYDROLASE(O-GLYCOSYL)     X-RAY DIFFRACTION           Protein   \n\n   residueCount  resolution  structureMolecularWeight  \\\n0            20        1.90                   6360.30   \n1            24        2.25                   7939.35   \n2           154        2.07                  18112.80   \n3            24        2.20                   7637.17   \n4           165        1.74                  18926.61   \n\n           crystallizationMethod  crystallizationTempK  densityMatthews  \\\n0  VAPOR DIFFUSION, HANGING DROP                   NaN             1.78   \n1                            NaN                   NaN             2.00   \n2                            NaN                   NaN             3.09   \n3  VAPOR DIFFUSION, SITTING DROP                 277.0             2.28   \n4                            NaN                   NaN             2.75   \n\n   densityPercentSol                                        pdbxDetails  \\\n0              30.89             pH 7.00, VAPOR DIFFUSION, HANGING DROP   \n1              38.45                                                NaN   \n2              60.20  3.0 M AMMONIUM SULFATE, 20 MM TRIS, 1MM EDTA, ...   \n3              46.06  pH 7.00, VAPOR DIFFUSION, SITTING DROP, temper...   \n4              55.28                                                NaN   \n\n   phValue  publicationYear  \n0      7.0           1994.0  \n1      NaN           1995.0  \n2      9.0           1999.0  \n3      7.0           1995.0  \n4      NaN           1993.0  ",
      "text/html": "<div>\n<style scoped>\n    .dataframe tbody tr th:only-of-type {\n        vertical-align: middle;\n    }\n\n    .dataframe tbody tr th {\n        vertical-align: top;\n    }\n\n    .dataframe thead th {\n        text-align: right;\n    }\n</style>\n<table border=\"1\" class=\"dataframe\">\n  <thead>\n    <tr style=\"text-align: right;\">\n      <th></th>\n      <th>structureId</th>\n      <th>classification</th>\n      <th>experimentalTechnique</th>\n      <th>macromoleculeType</th>\n      <th>residueCount</th>\n      <th>resolution</th>\n      <th>structureMolecularWeight</th>\n      <th>crystallizationMethod</th>\n      <th>crystallizationTempK</th>\n      <th>densityMatthews</th>\n      <th>densityPercentSol</th>\n      <th>pdbxDetails</th>\n      <th>phValue</th>\n      <th>publicationYear</th>\n    </tr>\n  </thead>\n  <tbody>\n    <tr>\n      <th>0</th>\n      <td>100D</td>\n      <td>DNA-RNA HYBRID</td>\n      <td>X-RAY DIFFRACTION</td>\n      <td>DNA/RNA Hybrid</td>\n      <td>20</td>\n      <td>1.90</td>\n      <td>6360.30</td>\n      <td>VAPOR DIFFUSION, HANGING DROP</td>\n      <td>NaN</td>\n      <td>1.78</td>\n      <td>30.89</td>\n      <td>pH 7.00, VAPOR DIFFUSION, HANGING DROP</td>\n      <td>7.0</td>\n      <td>1994.0</td>\n    </tr>\n    <tr>\n      <th>1</th>\n      <td>101D</td>\n      <td>DNA</td>\n      <td>X-RAY DIFFRACTION</td>\n      <td>DNA</td>\n      <td>24</td>\n      <td>2.25</td>\n      <td>7939.35</td>\n      <td>NaN</td>\n      <td>NaN</td>\n      <td>2.00</td>\n      <td>38.45</td>\n      <td>NaN</td>\n      <td>NaN</td>\n      <td>1995.0</td>\n    </tr>\n    <tr>\n      <th>2</th>\n      <td>101M</td>\n      <td>OXYGEN TRANSPORT</td>\n      <td>X-RAY DIFFRACTION</td>\n      <td>Protein</td>\n      <td>154</td>\n      <td>2.07</td>\n      <td>18112.80</td>\n      <td>NaN</td>\n      <td>NaN</td>\n      <td>3.09</td>\n      <td>60.20</td>\n      <td>3.0 M AMMONIUM SULFATE, 20 MM TRIS, 1MM EDTA, ...</td>\n      <td>9.0</td>\n      <td>1999.0</td>\n    </tr>\n    <tr>\n      <th>3</th>\n      <td>102D</td>\n      <td>DNA</td>\n      <td>X-RAY DIFFRACTION</td>\n      <td>DNA</td>\n      <td>24</td>\n      <td>2.20</td>\n      <td>7637.17</td>\n      <td>VAPOR DIFFUSION, SITTING DROP</td>\n      <td>277.0</td>\n      <td>2.28</td>\n      <td>46.06</td>\n      <td>pH 7.00, VAPOR DIFFUSION, SITTING DROP, temper...</td>\n      <td>7.0</td>\n      <td>1995.0</td>\n    </tr>\n    <tr>\n      <th>4</th>\n      <td>102L</td>\n      <td>HYDROLASE(O-GLYCOSYL)</td>\n      <td>X-RAY DIFFRACTION</td>\n      <td>Protein</td>\n      <td>165</td>\n      <td>1.74</td>\n      <td>18926.61</td>\n      <td>NaN</td>\n      <td>NaN</td>\n      <td>2.75</td>\n      <td>55.28</td>\n      <td>NaN</td>\n      <td>NaN</td>\n      <td>1993.0</td>\n    </tr>\n  </tbody>\n</table>\n</div>"
     },
     "execution_count": 16,
     "metadata": {},
     "output_type": "execute_result"
    }
   ],
   "source": [
    "data.head()"
   ],
   "metadata": {
    "collapsed": false
   }
  },
  {
   "cell_type": "code",
   "execution_count": 17,
   "outputs": [
    {
     "data": {
      "text/plain": "  structureId chainId                                           sequence  \\\n0        100D       A                                         CCGGCGCCGG   \n1        100D       B                                         CCGGCGCCGG   \n2        101D       A                                       CGCGAATTCGCG   \n3        101D       B                                       CGCGAATTCGCG   \n4        101M       A  MVLSEGEWQLVLHVWAKVEADVAGHGQDILIRLFKSHPETLEKFDR...   \n\n   residueCount macromoleculeType  \n0            20    DNA/RNA Hybrid  \n1            20    DNA/RNA Hybrid  \n2            24               DNA  \n3            24               DNA  \n4           154           Protein  ",
      "text/html": "<div>\n<style scoped>\n    .dataframe tbody tr th:only-of-type {\n        vertical-align: middle;\n    }\n\n    .dataframe tbody tr th {\n        vertical-align: top;\n    }\n\n    .dataframe thead th {\n        text-align: right;\n    }\n</style>\n<table border=\"1\" class=\"dataframe\">\n  <thead>\n    <tr style=\"text-align: right;\">\n      <th></th>\n      <th>structureId</th>\n      <th>chainId</th>\n      <th>sequence</th>\n      <th>residueCount</th>\n      <th>macromoleculeType</th>\n    </tr>\n  </thead>\n  <tbody>\n    <tr>\n      <th>0</th>\n      <td>100D</td>\n      <td>A</td>\n      <td>CCGGCGCCGG</td>\n      <td>20</td>\n      <td>DNA/RNA Hybrid</td>\n    </tr>\n    <tr>\n      <th>1</th>\n      <td>100D</td>\n      <td>B</td>\n      <td>CCGGCGCCGG</td>\n      <td>20</td>\n      <td>DNA/RNA Hybrid</td>\n    </tr>\n    <tr>\n      <th>2</th>\n      <td>101D</td>\n      <td>A</td>\n      <td>CGCGAATTCGCG</td>\n      <td>24</td>\n      <td>DNA</td>\n    </tr>\n    <tr>\n      <th>3</th>\n      <td>101D</td>\n      <td>B</td>\n      <td>CGCGAATTCGCG</td>\n      <td>24</td>\n      <td>DNA</td>\n    </tr>\n    <tr>\n      <th>4</th>\n      <td>101M</td>\n      <td>A</td>\n      <td>MVLSEGEWQLVLHVWAKVEADVAGHGQDILIRLFKSHPETLEKFDR...</td>\n      <td>154</td>\n      <td>Protein</td>\n    </tr>\n  </tbody>\n</table>\n</div>"
     },
     "execution_count": 17,
     "metadata": {},
     "output_type": "execute_result"
    }
   ],
   "source": [
    "sequnce.head()"
   ],
   "metadata": {
    "collapsed": false
   }
  },
  {
   "cell_type": "code",
   "execution_count": 18,
   "outputs": [],
   "source": [
    "# the same columns in both datasets\n",
    "sequnce.drop(columns=['residueCount', 'macromoleculeType'], inplace=True)"
   ],
   "metadata": {
    "collapsed": false
   }
  },
  {
   "cell_type": "code",
   "execution_count": 19,
   "outputs": [],
   "source": [
    "merged_proteins = data.merge(sequnce, how='inner', on='structureId')"
   ],
   "metadata": {
    "collapsed": false
   }
  },
  {
   "cell_type": "code",
   "execution_count": 27,
   "outputs": [
    {
     "data": {
      "text/plain": "count    471149.00000\nmean       6257.93182\nstd       23618.38381\nmin           0.00000\n25%         456.00000\n50%        1140.00000\n75%        4528.00000\nmax      313236.00000\nName: residueCount, dtype: float64"
     },
     "execution_count": 27,
     "metadata": {},
     "output_type": "execute_result"
    }
   ],
   "source": [
    "merged_proteins['residueCount'].describe()"
   ],
   "metadata": {
    "collapsed": false
   }
  },
  {
   "cell_type": "code",
   "execution_count": null,
   "outputs": [],
   "source": [],
   "metadata": {
    "collapsed": false
   }
  },
  {
   "cell_type": "code",
   "execution_count": 31,
   "outputs": [],
   "source": [
    "import matplotlib.pyplot as plt"
   ],
   "metadata": {
    "collapsed": false
   }
  },
  {
   "cell_type": "code",
   "execution_count": 33,
   "outputs": [],
   "source": [
    "from sklearn.model_selection import train_test_split"
   ],
   "metadata": {
    "collapsed": false
   }
  },
  {
   "cell_type": "code",
   "execution_count": null,
   "outputs": [],
   "source": [],
   "metadata": {
    "collapsed": false
   }
  }
 ],
 "metadata": {
  "kernelspec": {
   "display_name": "Python 3",
   "language": "python",
   "name": "python3"
  },
  "language_info": {
   "codemirror_mode": {
    "name": "ipython",
    "version": 2
   },
   "file_extension": ".py",
   "mimetype": "text/x-python",
   "name": "python",
   "nbconvert_exporter": "python",
   "pygments_lexer": "ipython2",
   "version": "2.7.6"
  }
 },
 "nbformat": 4,
 "nbformat_minor": 0
}
