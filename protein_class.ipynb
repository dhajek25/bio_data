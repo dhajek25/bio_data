{
 "cells": [
  {
   "cell_type": "code",
   "execution_count": 6,
   "id": "initial_id",
   "metadata": {
    "collapsed": true,
    "ExecuteTime": {
     "end_time": "2024-04-30T12:07:42.784886Z",
     "start_time": "2024-04-30T12:07:42.778840Z"
    }
   },
   "outputs": [],
   "source": [
    "import matplotlib.pyplot as plt\n",
    "import numpy as np\n",
    "import pandas as pd\n",
    "import random\n",
    "import seaborn as sns\n",
    "import itertools\n",
    "import tensorflow as tf\n",
    "# import tensorflow_hub as hub"
   ]
  },
  {
   "cell_type": "code",
   "outputs": [],
   "source": [
    "from tensorflow.keras.callbacks import EarlyStopping,ReduceLROnPlateau\n",
    "from tensorflow.keras.constraints import max_norm\n",
    "from tensorflow.keras.preprocessing import text, sequence\n",
    "from tensorflow.keras.preprocessing.sequence import pad_sequences\n",
    "from tensorflow.keras.preprocessing.text import Tokenizer\n",
    "from tensorflow.keras.regularizers import l2\n",
    "from tensorflow.keras import datasets, layers, models, Sequential\n",
    "from tensorflow.keras.models import Model\n",
    "from tensorflow.keras.layers import (Input, Dense, Flatten, \n",
    "                                     Conv1D, MaxPooling1D, Dropout, \n",
    "                                     GlobalMaxPooling1D, Activation, \n",
    "                                     Embedding, Bidirectional, LSTM, \n",
    "                                     BatchNormalization)"
   ],
   "metadata": {
    "collapsed": false,
    "ExecuteTime": {
     "end_time": "2024-04-30T12:05:29.494607Z",
     "start_time": "2024-04-30T12:05:27.132929Z"
    }
   },
   "id": "1f9c21a254b5bd2b",
   "execution_count": 2
  },
  {
   "cell_type": "code",
   "outputs": [],
   "source": [
    "from collections import Counter\n",
    "from sklearn.compose import ColumnTransformer,make_column_transformer\n",
    "from sklearn.feature_extraction.text import CountVectorizer\n",
    "from sklearn.metrics import (classification_report,accuracy_score,\n",
    "                             precision_score,recall_score,f1_score, \n",
    "                             confusion_matrix, precision_recall_curve)\n",
    "from sklearn.model_selection import train_test_split, cross_val_score\n",
    "from sklearn.preprocessing import (LabelEncoder,\n",
    "                                   OneHotEncoder,\n",
    "                                   LabelBinarizer)"
   ],
   "metadata": {
    "collapsed": false,
    "ExecuteTime": {
     "end_time": "2024-04-30T12:05:39.550343Z",
     "start_time": "2024-04-30T12:05:38.139132Z"
    }
   },
   "id": "6c7424515533f4d9",
   "execution_count": 3
  },
  {
   "cell_type": "code",
   "outputs": [],
   "source": [
    "# https://www.kaggle.com/code/srajpara/protein-classification-rnn-lstm-v-1"
   ],
   "metadata": {
    "collapsed": false
   },
   "id": "1cc6b1459f00a497"
  },
  {
   "cell_type": "markdown",
   "source": [
    "# Load Data"
   ],
   "metadata": {
    "collapsed": false
   },
   "id": "da9ed6101e6930fd"
  },
  {
   "cell_type": "code",
   "outputs": [],
   "source": [
    "data = pd.read_csv(\"protein_class_prep/pdb_data_no_dups.csv\")"
   ],
   "metadata": {
    "collapsed": false,
    "ExecuteTime": {
     "end_time": "2024-04-30T12:08:25.115610Z",
     "start_time": "2024-04-30T12:08:24.610507Z"
    }
   },
   "id": "9be433807ead24cb",
   "execution_count": 7
  },
  {
   "cell_type": "code",
   "outputs": [],
   "source": [
    "sequnce = pd.read_csv(\"protein_class_prep/pdb_data_seq.csv\")"
   ],
   "metadata": {
    "collapsed": false,
    "ExecuteTime": {
     "end_time": "2024-04-30T12:08:32.146054Z",
     "start_time": "2024-04-30T12:08:30.535349Z"
    }
   },
   "id": "7f733759d6c65c8b",
   "execution_count": 8
  },
  {
   "cell_type": "markdown",
   "source": [
    "# Data Preprocessing"
   ],
   "metadata": {
    "collapsed": false
   },
   "id": "fd229bf19ceaad5a"
  },
  {
   "cell_type": "code",
   "outputs": [
    {
     "data": {
      "text/plain": "  structureId         classification experimentalTechnique macromoleculeType  \\\n0        100D         DNA-RNA HYBRID     X-RAY DIFFRACTION    DNA/RNA Hybrid   \n1        101D                    DNA     X-RAY DIFFRACTION               DNA   \n2        101M       OXYGEN TRANSPORT     X-RAY DIFFRACTION           Protein   \n3        102D                    DNA     X-RAY DIFFRACTION               DNA   \n4        102L  HYDROLASE(O-GLYCOSYL)     X-RAY DIFFRACTION           Protein   \n\n   residueCount  resolution  structureMolecularWeight  \\\n0            20        1.90                   6360.30   \n1            24        2.25                   7939.35   \n2           154        2.07                  18112.80   \n3            24        2.20                   7637.17   \n4           165        1.74                  18926.61   \n\n           crystallizationMethod  crystallizationTempK  densityMatthews  \\\n0  VAPOR DIFFUSION, HANGING DROP                   NaN             1.78   \n1                            NaN                   NaN             2.00   \n2                            NaN                   NaN             3.09   \n3  VAPOR DIFFUSION, SITTING DROP                 277.0             2.28   \n4                            NaN                   NaN             2.75   \n\n   densityPercentSol                                        pdbxDetails  \\\n0              30.89             pH 7.00, VAPOR DIFFUSION, HANGING DROP   \n1              38.45                                                NaN   \n2              60.20  3.0 M AMMONIUM SULFATE, 20 MM TRIS, 1MM EDTA, ...   \n3              46.06  pH 7.00, VAPOR DIFFUSION, SITTING DROP, temper...   \n4              55.28                                                NaN   \n\n   phValue  publicationYear  \n0      7.0           1994.0  \n1      NaN           1995.0  \n2      9.0           1999.0  \n3      7.0           1995.0  \n4      NaN           1993.0  ",
      "text/html": "<div>\n<style scoped>\n    .dataframe tbody tr th:only-of-type {\n        vertical-align: middle;\n    }\n\n    .dataframe tbody tr th {\n        vertical-align: top;\n    }\n\n    .dataframe thead th {\n        text-align: right;\n    }\n</style>\n<table border=\"1\" class=\"dataframe\">\n  <thead>\n    <tr style=\"text-align: right;\">\n      <th></th>\n      <th>structureId</th>\n      <th>classification</th>\n      <th>experimentalTechnique</th>\n      <th>macromoleculeType</th>\n      <th>residueCount</th>\n      <th>resolution</th>\n      <th>structureMolecularWeight</th>\n      <th>crystallizationMethod</th>\n      <th>crystallizationTempK</th>\n      <th>densityMatthews</th>\n      <th>densityPercentSol</th>\n      <th>pdbxDetails</th>\n      <th>phValue</th>\n      <th>publicationYear</th>\n    </tr>\n  </thead>\n  <tbody>\n    <tr>\n      <th>0</th>\n      <td>100D</td>\n      <td>DNA-RNA HYBRID</td>\n      <td>X-RAY DIFFRACTION</td>\n      <td>DNA/RNA Hybrid</td>\n      <td>20</td>\n      <td>1.90</td>\n      <td>6360.30</td>\n      <td>VAPOR DIFFUSION, HANGING DROP</td>\n      <td>NaN</td>\n      <td>1.78</td>\n      <td>30.89</td>\n      <td>pH 7.00, VAPOR DIFFUSION, HANGING DROP</td>\n      <td>7.0</td>\n      <td>1994.0</td>\n    </tr>\n    <tr>\n      <th>1</th>\n      <td>101D</td>\n      <td>DNA</td>\n      <td>X-RAY DIFFRACTION</td>\n      <td>DNA</td>\n      <td>24</td>\n      <td>2.25</td>\n      <td>7939.35</td>\n      <td>NaN</td>\n      <td>NaN</td>\n      <td>2.00</td>\n      <td>38.45</td>\n      <td>NaN</td>\n      <td>NaN</td>\n      <td>1995.0</td>\n    </tr>\n    <tr>\n      <th>2</th>\n      <td>101M</td>\n      <td>OXYGEN TRANSPORT</td>\n      <td>X-RAY DIFFRACTION</td>\n      <td>Protein</td>\n      <td>154</td>\n      <td>2.07</td>\n      <td>18112.80</td>\n      <td>NaN</td>\n      <td>NaN</td>\n      <td>3.09</td>\n      <td>60.20</td>\n      <td>3.0 M AMMONIUM SULFATE, 20 MM TRIS, 1MM EDTA, ...</td>\n      <td>9.0</td>\n      <td>1999.0</td>\n    </tr>\n    <tr>\n      <th>3</th>\n      <td>102D</td>\n      <td>DNA</td>\n      <td>X-RAY DIFFRACTION</td>\n      <td>DNA</td>\n      <td>24</td>\n      <td>2.20</td>\n      <td>7637.17</td>\n      <td>VAPOR DIFFUSION, SITTING DROP</td>\n      <td>277.0</td>\n      <td>2.28</td>\n      <td>46.06</td>\n      <td>pH 7.00, VAPOR DIFFUSION, SITTING DROP, temper...</td>\n      <td>7.0</td>\n      <td>1995.0</td>\n    </tr>\n    <tr>\n      <th>4</th>\n      <td>102L</td>\n      <td>HYDROLASE(O-GLYCOSYL)</td>\n      <td>X-RAY DIFFRACTION</td>\n      <td>Protein</td>\n      <td>165</td>\n      <td>1.74</td>\n      <td>18926.61</td>\n      <td>NaN</td>\n      <td>NaN</td>\n      <td>2.75</td>\n      <td>55.28</td>\n      <td>NaN</td>\n      <td>NaN</td>\n      <td>1993.0</td>\n    </tr>\n  </tbody>\n</table>\n</div>"
     },
     "execution_count": 9,
     "metadata": {},
     "output_type": "execute_result"
    }
   ],
   "source": [
    "data.head()"
   ],
   "metadata": {
    "collapsed": false,
    "ExecuteTime": {
     "end_time": "2024-04-30T12:08:51.816760Z",
     "start_time": "2024-04-30T12:08:51.791704Z"
    }
   },
   "id": "4d2df44ff7b5a059",
   "execution_count": 9
  },
  {
   "cell_type": "code",
   "outputs": [
    {
     "data": {
      "text/plain": "  structureId chainId                                           sequence  \\\n0        100D       A                                         CCGGCGCCGG   \n1        100D       B                                         CCGGCGCCGG   \n2        101D       A                                       CGCGAATTCGCG   \n3        101D       B                                       CGCGAATTCGCG   \n4        101M       A  MVLSEGEWQLVLHVWAKVEADVAGHGQDILIRLFKSHPETLEKFDR...   \n\n   residueCount macromoleculeType  \n0            20    DNA/RNA Hybrid  \n1            20    DNA/RNA Hybrid  \n2            24               DNA  \n3            24               DNA  \n4           154           Protein  ",
      "text/html": "<div>\n<style scoped>\n    .dataframe tbody tr th:only-of-type {\n        vertical-align: middle;\n    }\n\n    .dataframe tbody tr th {\n        vertical-align: top;\n    }\n\n    .dataframe thead th {\n        text-align: right;\n    }\n</style>\n<table border=\"1\" class=\"dataframe\">\n  <thead>\n    <tr style=\"text-align: right;\">\n      <th></th>\n      <th>structureId</th>\n      <th>chainId</th>\n      <th>sequence</th>\n      <th>residueCount</th>\n      <th>macromoleculeType</th>\n    </tr>\n  </thead>\n  <tbody>\n    <tr>\n      <th>0</th>\n      <td>100D</td>\n      <td>A</td>\n      <td>CCGGCGCCGG</td>\n      <td>20</td>\n      <td>DNA/RNA Hybrid</td>\n    </tr>\n    <tr>\n      <th>1</th>\n      <td>100D</td>\n      <td>B</td>\n      <td>CCGGCGCCGG</td>\n      <td>20</td>\n      <td>DNA/RNA Hybrid</td>\n    </tr>\n    <tr>\n      <th>2</th>\n      <td>101D</td>\n      <td>A</td>\n      <td>CGCGAATTCGCG</td>\n      <td>24</td>\n      <td>DNA</td>\n    </tr>\n    <tr>\n      <th>3</th>\n      <td>101D</td>\n      <td>B</td>\n      <td>CGCGAATTCGCG</td>\n      <td>24</td>\n      <td>DNA</td>\n    </tr>\n    <tr>\n      <th>4</th>\n      <td>101M</td>\n      <td>A</td>\n      <td>MVLSEGEWQLVLHVWAKVEADVAGHGQDILIRLFKSHPETLEKFDR...</td>\n      <td>154</td>\n      <td>Protein</td>\n    </tr>\n  </tbody>\n</table>\n</div>"
     },
     "execution_count": 10,
     "metadata": {},
     "output_type": "execute_result"
    }
   ],
   "source": [
    "sequnce.head()"
   ],
   "metadata": {
    "collapsed": false,
    "ExecuteTime": {
     "end_time": "2024-04-30T12:08:57.704945Z",
     "start_time": "2024-04-30T12:08:57.678404Z"
    }
   },
   "id": "223da6c5ad9387da",
   "execution_count": 10
  },
  {
   "cell_type": "code",
   "outputs": [],
   "source": [
    "# the same columns in both datasets\n",
    "sequnce.drop(columns=['residueCount', 'macromoleculeType'], inplace=True)"
   ],
   "metadata": {
    "collapsed": false,
    "ExecuteTime": {
     "end_time": "2024-04-30T12:09:05.773564Z",
     "start_time": "2024-04-30T12:09:05.745Z"
    }
   },
   "id": "36249a44f3eb48dc",
   "execution_count": 11
  },
  {
   "cell_type": "code",
   "outputs": [],
   "source": [
    "df = data.merge(sequnce, how='inner', on='structureId')"
   ],
   "metadata": {
    "collapsed": false,
    "ExecuteTime": {
     "end_time": "2024-04-30T12:09:12.548462Z",
     "start_time": "2024-04-30T12:09:12.237404Z"
    }
   },
   "id": "32bcca065028554d",
   "execution_count": 12
  },
  {
   "cell_type": "code",
   "outputs": [
    {
     "name": "stdout",
     "output_type": "stream",
     "text": [
      "(346321, 16)\n"
     ]
    },
    {
     "data": {
      "text/plain": "   structureId         classification experimentalTechnique macromoleculeType  \\\n4         101M       OXYGEN TRANSPORT     X-RAY DIFFRACTION           Protein   \n7         102L  HYDROLASE(O-GLYCOSYL)     X-RAY DIFFRACTION           Protein   \n8         102M       OXYGEN TRANSPORT     X-RAY DIFFRACTION           Protein   \n11        103L  HYDROLASE(O-GLYCOSYL)     X-RAY DIFFRACTION           Protein   \n12        103M       OXYGEN TRANSPORT     X-RAY DIFFRACTION           Protein   \n\n    residueCount  resolution  structureMolecularWeight crystallizationMethod  \\\n4            154        2.07                  18112.80                   NaN   \n7            165        1.74                  18926.61                   NaN   \n8            154        1.84                  18010.64                   NaN   \n11           167        1.90                  19092.72                   NaN   \n12           154        2.07                  18093.78                   NaN   \n\n    crystallizationTempK  densityMatthews  densityPercentSol  \\\n4                    NaN             3.09              60.20   \n7                    NaN             2.75              55.28   \n8                    NaN             3.09              60.20   \n11                   NaN             2.70              54.46   \n12                   NaN             3.09              60.30   \n\n                                          pdbxDetails  phValue  \\\n4   3.0 M AMMONIUM SULFATE, 20 MM TRIS, 1MM EDTA, ...      9.0   \n7                                                 NaN      NaN   \n8   3.0 M AMMONIUM SULFATE, 20 MM TRIS, 1MM EDTA, ...      9.0   \n11                                                NaN      NaN   \n12  3.0 M AMMONIUM SULFATE, 20 MM TRIS, 1MM EDTA, ...      9.0   \n\n    publicationYear chainId                                           sequence  \n4            1999.0       A  MVLSEGEWQLVLHVWAKVEADVAGHGQDILIRLFKSHPETLEKFDR...  \n7            1993.0       A  MNIFEMLRIDEGLRLKIYKDTEGYYTIGIGHLLTKSPSLNAAAKSE...  \n8            1999.0       A  MVLSEGEWQLVLHVWAKVEADVAGHGQDILIRLFKSHPETLEKFDR...  \n11           1993.0       A  MNIFEMLRIDEGLRLKIYKDTEGYYTIGIGHLLTKSPSLNSLDAAK...  \n12           1999.0       A  MVLSEGEWQLVLHVWAKVEADVAGHGQDILIRLFKSHPETLEKFDR...  ",
      "text/html": "<div>\n<style scoped>\n    .dataframe tbody tr th:only-of-type {\n        vertical-align: middle;\n    }\n\n    .dataframe tbody tr th {\n        vertical-align: top;\n    }\n\n    .dataframe thead th {\n        text-align: right;\n    }\n</style>\n<table border=\"1\" class=\"dataframe\">\n  <thead>\n    <tr style=\"text-align: right;\">\n      <th></th>\n      <th>structureId</th>\n      <th>classification</th>\n      <th>experimentalTechnique</th>\n      <th>macromoleculeType</th>\n      <th>residueCount</th>\n      <th>resolution</th>\n      <th>structureMolecularWeight</th>\n      <th>crystallizationMethod</th>\n      <th>crystallizationTempK</th>\n      <th>densityMatthews</th>\n      <th>densityPercentSol</th>\n      <th>pdbxDetails</th>\n      <th>phValue</th>\n      <th>publicationYear</th>\n      <th>chainId</th>\n      <th>sequence</th>\n    </tr>\n  </thead>\n  <tbody>\n    <tr>\n      <th>4</th>\n      <td>101M</td>\n      <td>OXYGEN TRANSPORT</td>\n      <td>X-RAY DIFFRACTION</td>\n      <td>Protein</td>\n      <td>154</td>\n      <td>2.07</td>\n      <td>18112.80</td>\n      <td>NaN</td>\n      <td>NaN</td>\n      <td>3.09</td>\n      <td>60.20</td>\n      <td>3.0 M AMMONIUM SULFATE, 20 MM TRIS, 1MM EDTA, ...</td>\n      <td>9.0</td>\n      <td>1999.0</td>\n      <td>A</td>\n      <td>MVLSEGEWQLVLHVWAKVEADVAGHGQDILIRLFKSHPETLEKFDR...</td>\n    </tr>\n    <tr>\n      <th>7</th>\n      <td>102L</td>\n      <td>HYDROLASE(O-GLYCOSYL)</td>\n      <td>X-RAY DIFFRACTION</td>\n      <td>Protein</td>\n      <td>165</td>\n      <td>1.74</td>\n      <td>18926.61</td>\n      <td>NaN</td>\n      <td>NaN</td>\n      <td>2.75</td>\n      <td>55.28</td>\n      <td>NaN</td>\n      <td>NaN</td>\n      <td>1993.0</td>\n      <td>A</td>\n      <td>MNIFEMLRIDEGLRLKIYKDTEGYYTIGIGHLLTKSPSLNAAAKSE...</td>\n    </tr>\n    <tr>\n      <th>8</th>\n      <td>102M</td>\n      <td>OXYGEN TRANSPORT</td>\n      <td>X-RAY DIFFRACTION</td>\n      <td>Protein</td>\n      <td>154</td>\n      <td>1.84</td>\n      <td>18010.64</td>\n      <td>NaN</td>\n      <td>NaN</td>\n      <td>3.09</td>\n      <td>60.20</td>\n      <td>3.0 M AMMONIUM SULFATE, 20 MM TRIS, 1MM EDTA, ...</td>\n      <td>9.0</td>\n      <td>1999.0</td>\n      <td>A</td>\n      <td>MVLSEGEWQLVLHVWAKVEADVAGHGQDILIRLFKSHPETLEKFDR...</td>\n    </tr>\n    <tr>\n      <th>11</th>\n      <td>103L</td>\n      <td>HYDROLASE(O-GLYCOSYL)</td>\n      <td>X-RAY DIFFRACTION</td>\n      <td>Protein</td>\n      <td>167</td>\n      <td>1.90</td>\n      <td>19092.72</td>\n      <td>NaN</td>\n      <td>NaN</td>\n      <td>2.70</td>\n      <td>54.46</td>\n      <td>NaN</td>\n      <td>NaN</td>\n      <td>1993.0</td>\n      <td>A</td>\n      <td>MNIFEMLRIDEGLRLKIYKDTEGYYTIGIGHLLTKSPSLNSLDAAK...</td>\n    </tr>\n    <tr>\n      <th>12</th>\n      <td>103M</td>\n      <td>OXYGEN TRANSPORT</td>\n      <td>X-RAY DIFFRACTION</td>\n      <td>Protein</td>\n      <td>154</td>\n      <td>2.07</td>\n      <td>18093.78</td>\n      <td>NaN</td>\n      <td>NaN</td>\n      <td>3.09</td>\n      <td>60.30</td>\n      <td>3.0 M AMMONIUM SULFATE, 20 MM TRIS, 1MM EDTA, ...</td>\n      <td>9.0</td>\n      <td>1999.0</td>\n      <td>A</td>\n      <td>MVLSEGEWQLVLHVWAKVEADVAGHGQDILIRLFKSHPETLEKFDR...</td>\n    </tr>\n  </tbody>\n</table>\n</div>"
     },
     "execution_count": 13,
     "metadata": {},
     "output_type": "execute_result"
    }
   ],
   "source": [
    "# Drop rows with missing labels\n",
    "df = df[[type(c) == type('') for c in df.classification.values]]\n",
    "df = df[[type(c) == type('') for c in df.sequence.values]]\n",
    "\n",
    "# select proteins\n",
    "df = df[df.macromoleculeType == 'Protein']\n",
    "df.reset_index()\n",
    "print(df.shape)\n",
    "df.head()"
   ],
   "metadata": {
    "collapsed": false,
    "ExecuteTime": {
     "end_time": "2024-04-30T12:09:19.712145Z",
     "start_time": "2024-04-30T12:09:19.171295Z"
    }
   },
   "id": "47d2ef9d3c0672d2",
   "execution_count": 13
  },
  {
   "cell_type": "code",
   "outputs": [
    {
     "name": "stdout",
     "output_type": "stream",
     "text": [
      "5628.0\n"
     ]
    },
    {
     "data": {
      "text/plain": "count    346321.000000\nmean       4708.585243\nstd       26484.309151\nmin           3.000000\n25%         398.000000\n50%         856.000000\n75%        1976.000000\nmax      313236.000000\nName: residueCount, dtype: float64"
     },
     "execution_count": 14,
     "metadata": {},
     "output_type": "execute_result"
    }
   ],
   "source": [
    "# Remove some longer/shorter sequences\n",
    "print(df.residueCount.quantile(0.9))\n",
    "df.residueCount.describe()"
   ],
   "metadata": {
    "collapsed": false,
    "ExecuteTime": {
     "end_time": "2024-04-30T12:10:03.753522Z",
     "start_time": "2024-04-30T12:10:03.729366Z"
    }
   },
   "id": "458a1d304279babe",
   "execution_count": 14
  },
  {
   "cell_type": "code",
   "outputs": [
    {
     "name": "stdout",
     "output_type": "stream",
     "text": [
      "212258\n"
     ]
    },
    {
     "data": {
      "text/plain": "count    212258.000000\nmean        529.197415\nstd         305.092634\nmin           3.000000\n25%         280.000000\n50%         485.000000\n75%         768.000000\nmax        1198.000000\nName: residueCount, dtype: float64"
     },
     "execution_count": 15,
     "metadata": {},
     "output_type": "execute_result"
    }
   ],
   "source": [
    "df = df.loc[df.residueCount<1200]\n",
    "print(df.shape[0])\n",
    "df.residueCount.describe()"
   ],
   "metadata": {
    "collapsed": false,
    "ExecuteTime": {
     "end_time": "2024-04-30T12:10:40.528638Z",
     "start_time": "2024-04-30T12:10:40.482054Z"
    }
   },
   "id": "4455990eb573a230",
   "execution_count": 15
  },
  {
   "cell_type": "markdown",
   "source": [
    "Only 10 most common classes are considered - because computational limitations"
   ],
   "metadata": {
    "collapsed": false
   },
   "id": "cc91b33133655392"
  },
  {
   "cell_type": "code",
   "outputs": [
    {
     "name": "stdout",
     "output_type": "stream",
     "text": [
      "at least 4015 instances per class\n",
      "212258 instances before\n",
      "111166 instances after\n"
     ]
    },
    {
     "data": {
      "text/plain": "<Figure size 2000x500 with 2 Axes>",
      "image/png": "[encoded data removed]"
     },
     "metadata": {},
     "output_type": "display_data"
    }
   ],
   "source": [
    "import matplotlib.pyplot as plt\n",
    "from collections import Counter\n",
    "\n",
    "# count numbers of instances per class\n",
    "cnt = Counter(df.classification)\n",
    "# select only K most common classes! - was 10 by default\n",
    "top_classes = 10\n",
    "# sort classes\n",
    "sorted_classes = cnt.most_common()[:top_classes]\n",
    "classes = [c[0] for c in sorted_classes]\n",
    "counts = [c[1] for c in sorted_classes]\n",
    "print(\"at least \" + str(counts[-1]) + \" instances per class\")\n",
    "\n",
    "# apply to dataframe\n",
    "print(str(df.shape[0]) + \" instances before\")\n",
    "df = df[[c in classes for c in df.classification]]\n",
    "print(str(df.shape[0]) + \" instances after\")\n",
    "\n",
    "seqs = df.sequence.values\n",
    "lengths = [len(s) for s in seqs]\n",
    "\n",
    "# visualize\n",
    "fig, axarr = plt.subplots(1,2, figsize=(20,5))\n",
    "axarr[0].bar(range(len(classes)), counts)\n",
    "plt.sca(axarr[0])\n",
    "plt.xticks(range(len(classes)), classes, rotation='vertical')\n",
    "axarr[0].set_ylabel('frequency')\n",
    "\n",
    "axarr[1].hist(lengths, bins=50)\n",
    "axarr[1].set_xlabel('sequence length')\n",
    "axarr[1].set_ylabel('# sequences')\n",
    "plt.show()"
   ],
   "metadata": {
    "collapsed": false,
    "ExecuteTime": {
     "end_time": "2024-04-30T12:11:02.714830Z",
     "start_time": "2024-04-30T12:11:01.343040Z"
    }
   },
   "id": "f264bdfd686a45e8",
   "execution_count": 16
  },
  {
   "cell_type": "markdown",
   "source": [
    "## Transform labels"
   ],
   "metadata": {
    "collapsed": false
   },
   "id": "2996617f3aeae0c4"
  },
  {
   "cell_type": "code",
   "outputs": [],
   "source": [
    "X = df['sequence']\n",
    "y = df['classification']"
   ],
   "metadata": {
    "collapsed": false,
    "ExecuteTime": {
     "end_time": "2024-04-30T12:11:58.503399Z",
     "start_time": "2024-04-30T12:11:58.497403Z"
    }
   },
   "id": "eb3028712adab78b",
   "execution_count": 17
  },
  {
   "cell_type": "code",
   "outputs": [],
   "source": [
    "# encode classification labels\n",
    "lb = LabelBinarizer()\n",
    "y_encoded = lb.fit_transform(y)"
   ],
   "metadata": {
    "collapsed": false,
    "ExecuteTime": {
     "end_time": "2024-04-30T12:12:03.321995Z",
     "start_time": "2024-04-30T12:12:02.888781Z"
    }
   },
   "id": "6d8c390354269c0c",
   "execution_count": 18
  },
  {
   "cell_type": "code",
   "outputs": [],
   "source": [
    "# maximum length of sequence, everything afterwards is discarded! Default 256\n",
    "max_length = 350\n",
    "\n",
    "#create and fit tokenizer\n",
    "tokenizer = Tokenizer(char_level=True)\n",
    "tokenizer.fit_on_texts(seqs)\n",
    "#represent input data as word rank number sequences\n",
    "X = tokenizer.texts_to_sequences(seqs)\n",
    "X = sequence.pad_sequences(X, maxlen=max_length)"
   ],
   "metadata": {
    "collapsed": false,
    "ExecuteTime": {
     "end_time": "2024-04-30T12:12:18.791779Z",
     "start_time": "2024-04-30T12:12:08.271871Z"
    }
   },
   "id": "a29c8daa1b095799",
   "execution_count": 19
  },
  {
   "cell_type": "code",
   "outputs": [
    {
     "data": {
      "text/plain": "25"
     },
     "execution_count": 20,
     "metadata": {},
     "output_type": "execute_result"
    }
   ],
   "source": [
    "# number of distinct characters stored in variable max_id\n",
    "# this will be part of the input shape (reps each AA)\n",
    "max_id = len(tokenizer.word_index)\n",
    "max_id"
   ],
   "metadata": {
    "collapsed": false,
    "ExecuteTime": {
     "end_time": "2024-04-30T12:12:18.807040Z",
     "start_time": "2024-04-30T12:12:18.794780Z"
    }
   },
   "id": "8cac81e5f47c7931",
   "execution_count": 20
  },
  {
   "cell_type": "code",
   "outputs": [
    {
     "data": {
      "text/plain": "111166"
     },
     "execution_count": 21,
     "metadata": {},
     "output_type": "execute_result"
    }
   ],
   "source": [
    "# total number of characters \n",
    "dataset_size = tokenizer.document_count\n",
    "dataset_size"
   ],
   "metadata": {
    "collapsed": false,
    "ExecuteTime": {
     "end_time": "2024-04-30T12:12:19.484808Z",
     "start_time": "2024-04-30T12:12:19.467808Z"
    }
   },
   "id": "3ca76ac26103bd2a",
   "execution_count": 21
  },
  {
   "cell_type": "code",
   "outputs": [],
   "source": [
    "# split training and testing sets\n",
    "X_train, X_test, y_train, y_test = train_test_split(X, y_encoded, test_size=0.2, random_state=42)"
   ],
   "metadata": {
    "collapsed": false,
    "ExecuteTime": {
     "end_time": "2024-04-30T12:12:24.912603Z",
     "start_time": "2024-04-30T12:12:24.849279Z"
    }
   },
   "id": "47177bbe512d9077",
   "execution_count": 22
  },
  {
   "cell_type": "code",
   "outputs": [
    {
     "data": {
      "text/plain": "((88932, 350), (22234, 350), (88932, 10), (22234, 10))"
     },
     "execution_count": 23,
     "metadata": {},
     "output_type": "execute_result"
    }
   ],
   "source": [
    "# confirm shape\n",
    "X_train.shape, X_test.shape, y_train.shape, y_test.shape"
   ],
   "metadata": {
    "collapsed": false,
    "ExecuteTime": {
     "end_time": "2024-04-30T12:12:30.199148Z",
     "start_time": "2024-04-30T12:12:30.183151Z"
    }
   },
   "id": "3332ec71c6fa4d3e",
   "execution_count": 23
  },
  {
   "cell_type": "code",
   "outputs": [],
   "source": [
    "# create function to plot results\n",
    "def plot_model_results(model):\n",
    "    \n",
    "    accuracy = model.history.history['accuracy']\n",
    "    loss = model.history.history['loss']\n",
    "    \n",
    "    val_accuracy = model.history.history['val_accuracy']\n",
    "    val_loss = model.history.history['val_loss']\n",
    "    \n",
    "    epochs = range(1, len(accuracy) + 1)\n",
    "\n",
    "    plt.plot(epochs, accuracy, label='Training Accuracy')\n",
    "    plt.plot(epochs, val_accuracy, label='Validation Accuracy')\n",
    "    plt.title('Model Accuracy')\n",
    "    \n",
    "    plt.ylabel('% accuracy')\n",
    "    plt.xlabel('Epoch')\n",
    "    #plt.ylim(0.1, 1.0)\n",
    "    plt.legend()\n",
    "    plt.figure()\n",
    "\n",
    "    plt.plot(epochs, loss, label='Training Loss')\n",
    "    plt.plot(epochs, val_loss, label='Validation Loss')\n",
    "    plt.title('Model Loss')\n",
    "    \n",
    "    plt.ylabel('% loss')\n",
    "    plt.xlabel('Epoch')\n",
    "    #plt.ylim(0.1, 1.0)\n",
    "    plt.legend()\n",
    "    plt.show()"
   ],
   "metadata": {
    "collapsed": false,
    "ExecuteTime": {
     "end_time": "2024-04-30T12:13:03.223476Z",
     "start_time": "2024-04-30T12:13:03.213164Z"
    }
   },
   "id": "6fc8a06b2468620d",
   "execution_count": 24
  },
  {
   "cell_type": "code",
   "outputs": [],
   "source": [
    "# create hyperparameters \n",
    "early_stopping = tf.keras.callbacks.EarlyStopping(monitor='val_accuracy', \n",
    "                                                  mode='max', \n",
    "                                                  restore_best_weights=True, \n",
    "                                                  patience=2)\n",
    "\n",
    "opt = tf.keras.optimizers.Adam(learning_rate= 0.001)"
   ],
   "metadata": {
    "collapsed": false,
    "ExecuteTime": {
     "end_time": "2024-04-30T12:13:23.749569Z",
     "start_time": "2024-04-30T12:13:23.640969Z"
    }
   },
   "id": "39b37f43febcd122",
   "execution_count": 25
  },
  {
   "cell_type": "code",
   "outputs": [
    {
     "name": "stdout",
     "output_type": "stream",
     "text": [
      "Model: \"sequential\"\n",
      "_________________________________________________________________\n",
      " Layer (type)                Output Shape              Param #   \n",
      "=================================================================\n",
      " embedding (Embedding)       (None, 350, 25)           650       \n",
      "                                                                 \n",
      " lstm (LSTM)                 (None, 350, 25)           5100      \n",
      "                                                                 \n",
      " flatten (Flatten)           (None, 8750)              0         \n",
      "                                                                 \n",
      " dense (Dense)               (None, 7125)              62350875  \n",
      "                                                                 \n",
      " dense_1 (Dense)             (None, 10)                71260     \n",
      "                                                                 \n",
      "=================================================================\n",
      "Total params: 62427885 (238.14 MB)\n",
      "Trainable params: 62427885 (238.14 MB)\n",
      "Non-trainable params: 0 (0.00 Byte)\n",
      "_________________________________________________________________\n"
     ]
    }
   ],
   "source": [
    "# create model\n",
    "embedding_dim=25\n",
    "\n",
    "model = Sequential()\n",
    "model.add(Embedding(max_id+1,embedding_dim, input_length=max_length))\n",
    "\n",
    "model.add(LSTM(25, return_sequences=True))\n",
    "\n",
    "model.add(Flatten())\n",
    "model.add(Dense(7125, activation='sigmoid'))\n",
    "model.add(Dense(10, activation='softmax'))\n",
    "\n",
    "model.compile(loss='categorical_crossentropy', optimizer=opt, metrics=['accuracy'])\n",
    "\n",
    "model.summary()"
   ],
   "metadata": {
    "collapsed": false,
    "ExecuteTime": {
     "end_time": "2024-04-30T12:13:41.018115Z",
     "start_time": "2024-04-30T12:13:39.354681Z"
    }
   },
   "id": "217b131d6c2bd547",
   "execution_count": 27
  },
  {
   "cell_type": "markdown",
   "source": [
    "# BECAUSE OF COMPUTATIONAL LIMITATIONS, THE MODEL WAS TRAINED IN KAGGLE - USING GPU"
   ],
   "metadata": {
    "collapsed": false
   },
   "id": "79dd1235f634b61a"
  },
  {
   "cell_type": "markdown",
   "source": [
    "SEE: https://www.kaggle.com/code/davidhjek/protein-sequence-classification"
   ],
   "metadata": {
    "collapsed": false
   },
   "id": "bd0f5949bf9e95af"
  },
  {
   "cell_type": "code",
   "outputs": [
    {
     "name": "stdout",
     "output_type": "stream",
     "text": [
      "Epoch 1/50\n",
      " 267/2780 [=>............................] - ETA: 32:35 - loss: 1.9574 - accuracy: 0.3765"
     ]
    },
    {
     "ename": "KeyboardInterrupt",
     "evalue": "",
     "output_type": "error",
     "traceback": [
      "\u001B[1;31m---------------------------------------------------------------------------\u001B[0m",
      "\u001B[1;31mKeyboardInterrupt\u001B[0m                         Traceback (most recent call last)",
      "Cell \u001B[1;32mIn[28], line 3\u001B[0m\n\u001B[0;32m      1\u001B[0m \u001B[38;5;66;03m# fit model\u001B[39;00m\n\u001B[1;32m----> 3\u001B[0m \u001B[43mmodel\u001B[49m\u001B[38;5;241;43m.\u001B[39;49m\u001B[43mfit\u001B[49m\u001B[43m(\u001B[49m\u001B[43mX_train\u001B[49m\u001B[43m,\u001B[49m\u001B[43m \u001B[49m\u001B[43my_train\u001B[49m\u001B[43m,\u001B[49m\u001B[43m \u001B[49m\u001B[43mvalidation_data\u001B[49m\u001B[38;5;241;43m=\u001B[39;49m\u001B[43m(\u001B[49m\u001B[43mX_test\u001B[49m\u001B[43m,\u001B[49m\u001B[43m \u001B[49m\u001B[43my_test\u001B[49m\u001B[43m)\u001B[49m\u001B[43m,\u001B[49m\u001B[43m \u001B[49m\u001B[43mepochs\u001B[49m\u001B[38;5;241;43m=\u001B[39;49m\u001B[38;5;241;43m50\u001B[39;49m\u001B[43m,\u001B[49m\u001B[43m \u001B[49m\u001B[43mcallbacks\u001B[49m\u001B[38;5;241;43m=\u001B[39;49m\u001B[43mearly_stopping\u001B[49m\u001B[43m)\u001B[49m\n",
      "File \u001B[1;32m~\\Desktop\\Personal\\bio_data\\venv\\lib\\site-packages\\keras\\src\\utils\\traceback_utils.py:65\u001B[0m, in \u001B[0;36mfilter_traceback.<locals>.error_handler\u001B[1;34m(*args, **kwargs)\u001B[0m\n\u001B[0;32m     63\u001B[0m filtered_tb \u001B[38;5;241m=\u001B[39m \u001B[38;5;28;01mNone\u001B[39;00m\n\u001B[0;32m     64\u001B[0m \u001B[38;5;28;01mtry\u001B[39;00m:\n\u001B[1;32m---> 65\u001B[0m     \u001B[38;5;28;01mreturn\u001B[39;00m fn(\u001B[38;5;241m*\u001B[39margs, \u001B[38;5;241m*\u001B[39m\u001B[38;5;241m*\u001B[39mkwargs)\n\u001B[0;32m     66\u001B[0m \u001B[38;5;28;01mexcept\u001B[39;00m \u001B[38;5;167;01mException\u001B[39;00m \u001B[38;5;28;01mas\u001B[39;00m e:\n\u001B[0;32m     67\u001B[0m     filtered_tb \u001B[38;5;241m=\u001B[39m _process_traceback_frames(e\u001B[38;5;241m.\u001B[39m__traceback__)\n",
      "File \u001B[1;32m~\\Desktop\\Personal\\bio_data\\venv\\lib\\site-packages\\keras\\src\\engine\\training.py:1783\u001B[0m, in \u001B[0;36mModel.fit\u001B[1;34m(self, x, y, batch_size, epochs, verbose, callbacks, validation_split, validation_data, shuffle, class_weight, sample_weight, initial_epoch, steps_per_epoch, validation_steps, validation_batch_size, validation_freq, max_queue_size, workers, use_multiprocessing)\u001B[0m\n\u001B[0;32m   1775\u001B[0m \u001B[38;5;28;01mwith\u001B[39;00m tf\u001B[38;5;241m.\u001B[39mprofiler\u001B[38;5;241m.\u001B[39mexperimental\u001B[38;5;241m.\u001B[39mTrace(\n\u001B[0;32m   1776\u001B[0m     \u001B[38;5;124m\"\u001B[39m\u001B[38;5;124mtrain\u001B[39m\u001B[38;5;124m\"\u001B[39m,\n\u001B[0;32m   1777\u001B[0m     epoch_num\u001B[38;5;241m=\u001B[39mepoch,\n\u001B[1;32m   (...)\u001B[0m\n\u001B[0;32m   1780\u001B[0m     _r\u001B[38;5;241m=\u001B[39m\u001B[38;5;241m1\u001B[39m,\n\u001B[0;32m   1781\u001B[0m ):\n\u001B[0;32m   1782\u001B[0m     callbacks\u001B[38;5;241m.\u001B[39mon_train_batch_begin(step)\n\u001B[1;32m-> 1783\u001B[0m     tmp_logs \u001B[38;5;241m=\u001B[39m \u001B[38;5;28;43mself\u001B[39;49m\u001B[38;5;241;43m.\u001B[39;49m\u001B[43mtrain_function\u001B[49m\u001B[43m(\u001B[49m\u001B[43miterator\u001B[49m\u001B[43m)\u001B[49m\n\u001B[0;32m   1784\u001B[0m     \u001B[38;5;28;01mif\u001B[39;00m data_handler\u001B[38;5;241m.\u001B[39mshould_sync:\n\u001B[0;32m   1785\u001B[0m         context\u001B[38;5;241m.\u001B[39masync_wait()\n",
      "File \u001B[1;32m~\\Desktop\\Personal\\bio_data\\venv\\lib\\site-packages\\tensorflow\\python\\util\\traceback_utils.py:150\u001B[0m, in \u001B[0;36mfilter_traceback.<locals>.error_handler\u001B[1;34m(*args, **kwargs)\u001B[0m\n\u001B[0;32m    148\u001B[0m filtered_tb \u001B[38;5;241m=\u001B[39m \u001B[38;5;28;01mNone\u001B[39;00m\n\u001B[0;32m    149\u001B[0m \u001B[38;5;28;01mtry\u001B[39;00m:\n\u001B[1;32m--> 150\u001B[0m   \u001B[38;5;28;01mreturn\u001B[39;00m fn(\u001B[38;5;241m*\u001B[39margs, \u001B[38;5;241m*\u001B[39m\u001B[38;5;241m*\u001B[39mkwargs)\n\u001B[0;32m    151\u001B[0m \u001B[38;5;28;01mexcept\u001B[39;00m \u001B[38;5;167;01mException\u001B[39;00m \u001B[38;5;28;01mas\u001B[39;00m e:\n\u001B[0;32m    152\u001B[0m   filtered_tb \u001B[38;5;241m=\u001B[39m _process_traceback_frames(e\u001B[38;5;241m.\u001B[39m__traceback__)\n",
      "File \u001B[1;32m~\\Desktop\\Personal\\bio_data\\venv\\lib\\site-packages\\tensorflow\\python\\eager\\polymorphic_function\\polymorphic_function.py:831\u001B[0m, in \u001B[0;36mFunction.__call__\u001B[1;34m(self, *args, **kwds)\u001B[0m\n\u001B[0;32m    828\u001B[0m compiler \u001B[38;5;241m=\u001B[39m \u001B[38;5;124m\"\u001B[39m\u001B[38;5;124mxla\u001B[39m\u001B[38;5;124m\"\u001B[39m \u001B[38;5;28;01mif\u001B[39;00m \u001B[38;5;28mself\u001B[39m\u001B[38;5;241m.\u001B[39m_jit_compile \u001B[38;5;28;01melse\u001B[39;00m \u001B[38;5;124m\"\u001B[39m\u001B[38;5;124mnonXla\u001B[39m\u001B[38;5;124m\"\u001B[39m\n\u001B[0;32m    830\u001B[0m \u001B[38;5;28;01mwith\u001B[39;00m OptionalXlaContext(\u001B[38;5;28mself\u001B[39m\u001B[38;5;241m.\u001B[39m_jit_compile):\n\u001B[1;32m--> 831\u001B[0m   result \u001B[38;5;241m=\u001B[39m \u001B[38;5;28mself\u001B[39m\u001B[38;5;241m.\u001B[39m_call(\u001B[38;5;241m*\u001B[39margs, \u001B[38;5;241m*\u001B[39m\u001B[38;5;241m*\u001B[39mkwds)\n\u001B[0;32m    833\u001B[0m new_tracing_count \u001B[38;5;241m=\u001B[39m \u001B[38;5;28mself\u001B[39m\u001B[38;5;241m.\u001B[39mexperimental_get_tracing_count()\n\u001B[0;32m    834\u001B[0m without_tracing \u001B[38;5;241m=\u001B[39m (tracing_count \u001B[38;5;241m==\u001B[39m new_tracing_count)\n",
      "File \u001B[1;32m~\\Desktop\\Personal\\bio_data\\venv\\lib\\site-packages\\tensorflow\\python\\eager\\polymorphic_function\\polymorphic_function.py:867\u001B[0m, in \u001B[0;36mFunction._call\u001B[1;34m(self, *args, **kwds)\u001B[0m\n\u001B[0;32m    864\u001B[0m   \u001B[38;5;28mself\u001B[39m\u001B[38;5;241m.\u001B[39m_lock\u001B[38;5;241m.\u001B[39mrelease()\n\u001B[0;32m    865\u001B[0m   \u001B[38;5;66;03m# In this case we have created variables on the first call, so we run the\u001B[39;00m\n\u001B[0;32m    866\u001B[0m   \u001B[38;5;66;03m# defunned version which is guaranteed to never create variables.\u001B[39;00m\n\u001B[1;32m--> 867\u001B[0m   \u001B[38;5;28;01mreturn\u001B[39;00m \u001B[43mtracing_compilation\u001B[49m\u001B[38;5;241;43m.\u001B[39;49m\u001B[43mcall_function\u001B[49m\u001B[43m(\u001B[49m\n\u001B[0;32m    868\u001B[0m \u001B[43m      \u001B[49m\u001B[43margs\u001B[49m\u001B[43m,\u001B[49m\u001B[43m \u001B[49m\u001B[43mkwds\u001B[49m\u001B[43m,\u001B[49m\u001B[43m \u001B[49m\u001B[38;5;28;43mself\u001B[39;49m\u001B[38;5;241;43m.\u001B[39;49m\u001B[43m_no_variable_creation_config\u001B[49m\n\u001B[0;32m    869\u001B[0m \u001B[43m  \u001B[49m\u001B[43m)\u001B[49m\n\u001B[0;32m    870\u001B[0m \u001B[38;5;28;01melif\u001B[39;00m \u001B[38;5;28mself\u001B[39m\u001B[38;5;241m.\u001B[39m_variable_creation_config \u001B[38;5;129;01mis\u001B[39;00m \u001B[38;5;129;01mnot\u001B[39;00m \u001B[38;5;28;01mNone\u001B[39;00m:\n\u001B[0;32m    871\u001B[0m   \u001B[38;5;66;03m# Release the lock early so that multiple threads can perform the call\u001B[39;00m\n\u001B[0;32m    872\u001B[0m   \u001B[38;5;66;03m# in parallel.\u001B[39;00m\n\u001B[0;32m    873\u001B[0m   \u001B[38;5;28mself\u001B[39m\u001B[38;5;241m.\u001B[39m_lock\u001B[38;5;241m.\u001B[39mrelease()\n",
      "File \u001B[1;32m~\\Desktop\\Personal\\bio_data\\venv\\lib\\site-packages\\tensorflow\\python\\eager\\polymorphic_function\\tracing_compilation.py:139\u001B[0m, in \u001B[0;36mcall_function\u001B[1;34m(args, kwargs, tracing_options)\u001B[0m\n\u001B[0;32m    137\u001B[0m bound_args \u001B[38;5;241m=\u001B[39m function\u001B[38;5;241m.\u001B[39mfunction_type\u001B[38;5;241m.\u001B[39mbind(\u001B[38;5;241m*\u001B[39margs, \u001B[38;5;241m*\u001B[39m\u001B[38;5;241m*\u001B[39mkwargs)\n\u001B[0;32m    138\u001B[0m flat_inputs \u001B[38;5;241m=\u001B[39m function\u001B[38;5;241m.\u001B[39mfunction_type\u001B[38;5;241m.\u001B[39munpack_inputs(bound_args)\n\u001B[1;32m--> 139\u001B[0m \u001B[38;5;28;01mreturn\u001B[39;00m \u001B[43mfunction\u001B[49m\u001B[38;5;241;43m.\u001B[39;49m\u001B[43m_call_flat\u001B[49m\u001B[43m(\u001B[49m\u001B[43m  \u001B[49m\u001B[38;5;66;43;03m# pylint: disable=protected-access\u001B[39;49;00m\n\u001B[0;32m    140\u001B[0m \u001B[43m    \u001B[49m\u001B[43mflat_inputs\u001B[49m\u001B[43m,\u001B[49m\u001B[43m \u001B[49m\u001B[43mcaptured_inputs\u001B[49m\u001B[38;5;241;43m=\u001B[39;49m\u001B[43mfunction\u001B[49m\u001B[38;5;241;43m.\u001B[39;49m\u001B[43mcaptured_inputs\u001B[49m\n\u001B[0;32m    141\u001B[0m \u001B[43m\u001B[49m\u001B[43m)\u001B[49m\n",
      "File \u001B[1;32m~\\Desktop\\Personal\\bio_data\\venv\\lib\\site-packages\\tensorflow\\python\\eager\\polymorphic_function\\concrete_function.py:1264\u001B[0m, in \u001B[0;36mConcreteFunction._call_flat\u001B[1;34m(self, tensor_inputs, captured_inputs)\u001B[0m\n\u001B[0;32m   1260\u001B[0m possible_gradient_type \u001B[38;5;241m=\u001B[39m gradients_util\u001B[38;5;241m.\u001B[39mPossibleTapeGradientTypes(args)\n\u001B[0;32m   1261\u001B[0m \u001B[38;5;28;01mif\u001B[39;00m (possible_gradient_type \u001B[38;5;241m==\u001B[39m gradients_util\u001B[38;5;241m.\u001B[39mPOSSIBLE_GRADIENT_TYPES_NONE\n\u001B[0;32m   1262\u001B[0m     \u001B[38;5;129;01mand\u001B[39;00m executing_eagerly):\n\u001B[0;32m   1263\u001B[0m   \u001B[38;5;66;03m# No tape is watching; skip to running the function.\u001B[39;00m\n\u001B[1;32m-> 1264\u001B[0m   \u001B[38;5;28;01mreturn\u001B[39;00m \u001B[38;5;28;43mself\u001B[39;49m\u001B[38;5;241;43m.\u001B[39;49m\u001B[43m_inference_function\u001B[49m\u001B[38;5;241;43m.\u001B[39;49m\u001B[43mflat_call\u001B[49m\u001B[43m(\u001B[49m\u001B[43margs\u001B[49m\u001B[43m)\u001B[49m\n\u001B[0;32m   1265\u001B[0m forward_backward \u001B[38;5;241m=\u001B[39m \u001B[38;5;28mself\u001B[39m\u001B[38;5;241m.\u001B[39m_select_forward_and_backward_functions(\n\u001B[0;32m   1266\u001B[0m     args,\n\u001B[0;32m   1267\u001B[0m     possible_gradient_type,\n\u001B[0;32m   1268\u001B[0m     executing_eagerly)\n\u001B[0;32m   1269\u001B[0m forward_function, args_with_tangents \u001B[38;5;241m=\u001B[39m forward_backward\u001B[38;5;241m.\u001B[39mforward()\n",
      "File \u001B[1;32m~\\Desktop\\Personal\\bio_data\\venv\\lib\\site-packages\\tensorflow\\python\\eager\\polymorphic_function\\atomic_function.py:217\u001B[0m, in \u001B[0;36mAtomicFunction.flat_call\u001B[1;34m(self, args)\u001B[0m\n\u001B[0;32m    215\u001B[0m \u001B[38;5;28;01mdef\u001B[39;00m \u001B[38;5;21mflat_call\u001B[39m(\u001B[38;5;28mself\u001B[39m, args: Sequence[core\u001B[38;5;241m.\u001B[39mTensor]) \u001B[38;5;241m-\u001B[39m\u001B[38;5;241m>\u001B[39m Any:\n\u001B[0;32m    216\u001B[0m \u001B[38;5;250m  \u001B[39m\u001B[38;5;124;03m\"\"\"Calls with tensor inputs and returns the structured output.\"\"\"\u001B[39;00m\n\u001B[1;32m--> 217\u001B[0m   flat_outputs \u001B[38;5;241m=\u001B[39m \u001B[38;5;28;43mself\u001B[39;49m\u001B[43m(\u001B[49m\u001B[38;5;241;43m*\u001B[39;49m\u001B[43margs\u001B[49m\u001B[43m)\u001B[49m\n\u001B[0;32m    218\u001B[0m   \u001B[38;5;28;01mreturn\u001B[39;00m \u001B[38;5;28mself\u001B[39m\u001B[38;5;241m.\u001B[39mfunction_type\u001B[38;5;241m.\u001B[39mpack_output(flat_outputs)\n",
      "File \u001B[1;32m~\\Desktop\\Personal\\bio_data\\venv\\lib\\site-packages\\tensorflow\\python\\eager\\polymorphic_function\\atomic_function.py:252\u001B[0m, in \u001B[0;36mAtomicFunction.__call__\u001B[1;34m(self, *args)\u001B[0m\n\u001B[0;32m    250\u001B[0m \u001B[38;5;28;01mwith\u001B[39;00m record\u001B[38;5;241m.\u001B[39mstop_recording():\n\u001B[0;32m    251\u001B[0m   \u001B[38;5;28;01mif\u001B[39;00m \u001B[38;5;28mself\u001B[39m\u001B[38;5;241m.\u001B[39m_bound_context\u001B[38;5;241m.\u001B[39mexecuting_eagerly():\n\u001B[1;32m--> 252\u001B[0m     outputs \u001B[38;5;241m=\u001B[39m \u001B[38;5;28;43mself\u001B[39;49m\u001B[38;5;241;43m.\u001B[39;49m\u001B[43m_bound_context\u001B[49m\u001B[38;5;241;43m.\u001B[39;49m\u001B[43mcall_function\u001B[49m\u001B[43m(\u001B[49m\n\u001B[0;32m    253\u001B[0m \u001B[43m        \u001B[49m\u001B[38;5;28;43mself\u001B[39;49m\u001B[38;5;241;43m.\u001B[39;49m\u001B[43mname\u001B[49m\u001B[43m,\u001B[49m\n\u001B[0;32m    254\u001B[0m \u001B[43m        \u001B[49m\u001B[38;5;28;43mlist\u001B[39;49m\u001B[43m(\u001B[49m\u001B[43margs\u001B[49m\u001B[43m)\u001B[49m\u001B[43m,\u001B[49m\n\u001B[0;32m    255\u001B[0m \u001B[43m        \u001B[49m\u001B[38;5;28;43mlen\u001B[39;49m\u001B[43m(\u001B[49m\u001B[38;5;28;43mself\u001B[39;49m\u001B[38;5;241;43m.\u001B[39;49m\u001B[43mfunction_type\u001B[49m\u001B[38;5;241;43m.\u001B[39;49m\u001B[43mflat_outputs\u001B[49m\u001B[43m)\u001B[49m\u001B[43m,\u001B[49m\n\u001B[0;32m    256\u001B[0m \u001B[43m    \u001B[49m\u001B[43m)\u001B[49m\n\u001B[0;32m    257\u001B[0m   \u001B[38;5;28;01melse\u001B[39;00m:\n\u001B[0;32m    258\u001B[0m     outputs \u001B[38;5;241m=\u001B[39m make_call_op_in_graph(\n\u001B[0;32m    259\u001B[0m         \u001B[38;5;28mself\u001B[39m,\n\u001B[0;32m    260\u001B[0m         \u001B[38;5;28mlist\u001B[39m(args),\n\u001B[0;32m    261\u001B[0m         \u001B[38;5;28mself\u001B[39m\u001B[38;5;241m.\u001B[39m_bound_context\u001B[38;5;241m.\u001B[39mfunction_call_options\u001B[38;5;241m.\u001B[39mas_attrs(),\n\u001B[0;32m    262\u001B[0m     )\n",
      "File \u001B[1;32m~\\Desktop\\Personal\\bio_data\\venv\\lib\\site-packages\\tensorflow\\python\\eager\\context.py:1479\u001B[0m, in \u001B[0;36mContext.call_function\u001B[1;34m(self, name, tensor_inputs, num_outputs)\u001B[0m\n\u001B[0;32m   1477\u001B[0m cancellation_context \u001B[38;5;241m=\u001B[39m cancellation\u001B[38;5;241m.\u001B[39mcontext()\n\u001B[0;32m   1478\u001B[0m \u001B[38;5;28;01mif\u001B[39;00m cancellation_context \u001B[38;5;129;01mis\u001B[39;00m \u001B[38;5;28;01mNone\u001B[39;00m:\n\u001B[1;32m-> 1479\u001B[0m   outputs \u001B[38;5;241m=\u001B[39m \u001B[43mexecute\u001B[49m\u001B[38;5;241;43m.\u001B[39;49m\u001B[43mexecute\u001B[49m\u001B[43m(\u001B[49m\n\u001B[0;32m   1480\u001B[0m \u001B[43m      \u001B[49m\u001B[43mname\u001B[49m\u001B[38;5;241;43m.\u001B[39;49m\u001B[43mdecode\u001B[49m\u001B[43m(\u001B[49m\u001B[38;5;124;43m\"\u001B[39;49m\u001B[38;5;124;43mutf-8\u001B[39;49m\u001B[38;5;124;43m\"\u001B[39;49m\u001B[43m)\u001B[49m\u001B[43m,\u001B[49m\n\u001B[0;32m   1481\u001B[0m \u001B[43m      \u001B[49m\u001B[43mnum_outputs\u001B[49m\u001B[38;5;241;43m=\u001B[39;49m\u001B[43mnum_outputs\u001B[49m\u001B[43m,\u001B[49m\n\u001B[0;32m   1482\u001B[0m \u001B[43m      \u001B[49m\u001B[43minputs\u001B[49m\u001B[38;5;241;43m=\u001B[39;49m\u001B[43mtensor_inputs\u001B[49m\u001B[43m,\u001B[49m\n\u001B[0;32m   1483\u001B[0m \u001B[43m      \u001B[49m\u001B[43mattrs\u001B[49m\u001B[38;5;241;43m=\u001B[39;49m\u001B[43mattrs\u001B[49m\u001B[43m,\u001B[49m\n\u001B[0;32m   1484\u001B[0m \u001B[43m      \u001B[49m\u001B[43mctx\u001B[49m\u001B[38;5;241;43m=\u001B[39;49m\u001B[38;5;28;43mself\u001B[39;49m\u001B[43m,\u001B[49m\n\u001B[0;32m   1485\u001B[0m \u001B[43m  \u001B[49m\u001B[43m)\u001B[49m\n\u001B[0;32m   1486\u001B[0m \u001B[38;5;28;01melse\u001B[39;00m:\n\u001B[0;32m   1487\u001B[0m   outputs \u001B[38;5;241m=\u001B[39m execute\u001B[38;5;241m.\u001B[39mexecute_with_cancellation(\n\u001B[0;32m   1488\u001B[0m       name\u001B[38;5;241m.\u001B[39mdecode(\u001B[38;5;124m\"\u001B[39m\u001B[38;5;124mutf-8\u001B[39m\u001B[38;5;124m\"\u001B[39m),\n\u001B[0;32m   1489\u001B[0m       num_outputs\u001B[38;5;241m=\u001B[39mnum_outputs,\n\u001B[1;32m   (...)\u001B[0m\n\u001B[0;32m   1493\u001B[0m       cancellation_manager\u001B[38;5;241m=\u001B[39mcancellation_context,\n\u001B[0;32m   1494\u001B[0m   )\n",
      "File \u001B[1;32m~\\Desktop\\Personal\\bio_data\\venv\\lib\\site-packages\\tensorflow\\python\\eager\\execute.py:60\u001B[0m, in \u001B[0;36mquick_execute\u001B[1;34m(op_name, num_outputs, inputs, attrs, ctx, name)\u001B[0m\n\u001B[0;32m     53\u001B[0m   \u001B[38;5;66;03m# Convert any objects of type core_types.Tensor to Tensor.\u001B[39;00m\n\u001B[0;32m     54\u001B[0m   inputs \u001B[38;5;241m=\u001B[39m [\n\u001B[0;32m     55\u001B[0m       tensor_conversion_registry\u001B[38;5;241m.\u001B[39mconvert(t)\n\u001B[0;32m     56\u001B[0m       \u001B[38;5;28;01mif\u001B[39;00m \u001B[38;5;28misinstance\u001B[39m(t, core_types\u001B[38;5;241m.\u001B[39mTensor)\n\u001B[0;32m     57\u001B[0m       \u001B[38;5;28;01melse\u001B[39;00m t\n\u001B[0;32m     58\u001B[0m       \u001B[38;5;28;01mfor\u001B[39;00m t \u001B[38;5;129;01min\u001B[39;00m inputs\n\u001B[0;32m     59\u001B[0m   ]\n\u001B[1;32m---> 60\u001B[0m   tensors \u001B[38;5;241m=\u001B[39m \u001B[43mpywrap_tfe\u001B[49m\u001B[38;5;241;43m.\u001B[39;49m\u001B[43mTFE_Py_Execute\u001B[49m\u001B[43m(\u001B[49m\u001B[43mctx\u001B[49m\u001B[38;5;241;43m.\u001B[39;49m\u001B[43m_handle\u001B[49m\u001B[43m,\u001B[49m\u001B[43m \u001B[49m\u001B[43mdevice_name\u001B[49m\u001B[43m,\u001B[49m\u001B[43m \u001B[49m\u001B[43mop_name\u001B[49m\u001B[43m,\u001B[49m\n\u001B[0;32m     61\u001B[0m \u001B[43m                                      \u001B[49m\u001B[43minputs\u001B[49m\u001B[43m,\u001B[49m\u001B[43m \u001B[49m\u001B[43mattrs\u001B[49m\u001B[43m,\u001B[49m\u001B[43m \u001B[49m\u001B[43mnum_outputs\u001B[49m\u001B[43m)\u001B[49m\n\u001B[0;32m     62\u001B[0m \u001B[38;5;28;01mexcept\u001B[39;00m core\u001B[38;5;241m.\u001B[39m_NotOkStatusException \u001B[38;5;28;01mas\u001B[39;00m e:\n\u001B[0;32m     63\u001B[0m   \u001B[38;5;28;01mif\u001B[39;00m name \u001B[38;5;129;01mis\u001B[39;00m \u001B[38;5;129;01mnot\u001B[39;00m \u001B[38;5;28;01mNone\u001B[39;00m:\n",
      "\u001B[1;31mKeyboardInterrupt\u001B[0m: "
     ]
    }
   ],
   "source": [
    "# fit model\n",
    "model.fit(X_train, y_train, validation_data=(X_test, y_test), epochs=50, callbacks=early_stopping)"
   ],
   "metadata": {
    "collapsed": false,
    "ExecuteTime": {
     "end_time": "2024-04-30T12:17:33.542400Z",
     "start_time": "2024-04-30T12:14:01.000517Z"
    }
   },
   "id": "9e91fa9c771e602e",
   "execution_count": 28
  },
  {
   "cell_type": "code",
   "outputs": [],
   "source": [
    "# plot results\n",
    "plot_model_results(model)"
   ],
   "metadata": {
    "collapsed": false,
    "ExecuteTime": {
     "end_time": "2024-04-30T12:17:33.544286Z",
     "start_time": "2024-04-30T12:17:33.544286Z"
    }
   },
   "id": "658729a963d16552"
  },
  {
   "cell_type": "code",
   "outputs": [],
   "source": [
    "# evaluate model\n",
    "train_pred = model.predict(X_train)\n",
    "test_pred = model.predict(X_test)\n",
    "print(\"train accuracy = \" + str(accuracy_score(np.argmax(y_train, axis=1), np.argmax(train_pred, axis=1))))\n",
    "print(\"test accuracy = \" + str(accuracy_score(np.argmax(y_test, axis=1), np.argmax(test_pred, axis=1))))"
   ],
   "metadata": {
    "collapsed": false,
    "ExecuteTime": {
     "end_time": "2024-04-30T12:17:33.546337Z",
     "start_time": "2024-04-30T12:17:33.546337Z"
    }
   },
   "id": "dc667100472cf991"
  },
  {
   "cell_type": "code",
   "outputs": [],
   "source": [
    "# Compute confusion matrix\n",
    "cm = confusion_matrix(np.argmax(y_test, axis=1), np.argmax(test_pred, axis=1))\n",
    "\n",
    "# Plot normalized confusion matrix\n",
    "cm = cm.astype('float') / cm.sum(axis=1)[:, np.newaxis]\n",
    "np.set_printoptions(precision=2)\n",
    "plt.figure(figsize=(7,7))\n",
    "plt.imshow(cm, interpolation='nearest', cmap=plt.cm.Blues)\n",
    "plt.title('Confusion matrix')\n",
    "plt.colorbar()\n",
    "tick_marks = np.arange(len(lb.classes_))\n",
    "plt.xticks(tick_marks, lb.classes_, rotation=90)\n",
    "plt.yticks(tick_marks, lb.classes_)\n",
    "plt.ylabel('True label')\n",
    "plt.xlabel('Predicted label')\n",
    "plt.show()"
   ],
   "metadata": {
    "collapsed": false,
    "ExecuteTime": {
     "end_time": "2024-04-30T12:17:33.548338Z",
     "start_time": "2024-04-30T12:17:33.548338Z"
    }
   },
   "id": "1e795cb7750bab3"
  },
  {
   "cell_type": "code",
   "outputs": [],
   "source": [
    "# classification report\n",
    "print(classification_report(np.argmax(y_test, axis=1), np.argmax(test_pred, axis=1), target_names=lb.classes_))"
   ],
   "metadata": {
    "collapsed": false
   },
   "id": "1842b4eb10c5726a"
  }
 ],
 "metadata": {
  "kernelspec": {
   "display_name": "Python 3",
   "language": "python",
   "name": "python3"
  },
  "language_info": {
   "codemirror_mode": {
    "name": "ipython",
    "version": 2
   },
   "file_extension": ".py",
   "mimetype": "text/x-python",
   "name": "python",
   "nbconvert_exporter": "python",
   "pygments_lexer": "ipython2",
   "version": "2.7.6"
  }
 },
 "nbformat": 4,
 "nbformat_minor": 5
}
